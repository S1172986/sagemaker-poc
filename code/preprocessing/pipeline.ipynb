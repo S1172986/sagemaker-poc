{
 "cells": [
  {
   "cell_type": "code",
   "execution_count": 13,
   "metadata": {},
   "outputs": [],
   "source": [
    "import boto3\n",
    "\n",
    "from sagemaker.processing import FrameworkProcessor\n",
    "from sagemaker.processing import ProcessingInput, ProcessingOutput\n",
    "from sagemaker.sklearn.estimator import SKLearn\n",
    "from sagemaker import get_execution_role"
   ]
  },
  {
   "cell_type": "code",
   "execution_count": 14,
   "metadata": {},
   "outputs": [],
   "source": [
    "region = boto3.session.Session().region_name\n",
    "role = get_execution_role()\n",
    "sess = sagemaker.Session()"
   ]
  },
  {
   "cell_type": "markdown",
   "metadata": {},
   "source": [
    "## Step 1.1 Get fields data"
   ]
  },
  {
   "cell_type": "code",
   "execution_count": 2,
   "metadata": {},
   "outputs": [
    {
     "name": "stdout",
     "output_type": "stream",
     "text": [
      "Writing requirements.txt\n"
     ]
    }
   ],
   "source": [
    "%%writefile requirements.txt\n",
    "psycopg2-binary==2.9.3\n",
    "sqlalchemy-redshift==0.8.11\n",
    "pydantic==1.10.2 "
   ]
  },
  {
   "cell_type": "code",
   "execution_count": 3,
   "metadata": {},
   "outputs": [],
   "source": [
    "!mkdir code/step1_1\n",
    "!cp 1_1_get_fields.py ./code/step1_1\n",
    "!cp requirements.txt ./code/step1_1"
   ]
  },
  {
   "cell_type": "code",
   "execution_count": null,
   "metadata": {},
   "outputs": [],
   "source": [
    "est_cls = SKLearn\n",
    "framework_version_str = \"0.20.0\"\n",
    "\n",
    "tags = [\n",
    "    {'Key':'Application', 'Value':'CAD'},\n",
    "    {'Key':\"Cost Center\", 'Value':'68230'}\n",
    "]\n",
    "security_group_ids = ['sg-08ec780df00d293b0']\n",
    "subnets = ['subnet-05bd78860c2f05164','subnet-0d8e3fd5532d83e69']\n",
    "\n",
    "script_processor = FrameworkProcessor(\n",
    "    role=role,\n",
    "    instance_count=1,\n",
    "    instance_type=\"ml.m4.xlarge\",\n",
    "    estimator_cls=est_cls,\n",
    "    framework_version=framework_version_str,\n",
    "    tags=tags,\n",
    "    base_job_name='cad',\n",
    ")\n",
    "script_processor.run(\n",
    "    code=\"1_1_get_fields.py\",\n",
    "    source_dir=\"code/step1_1\",\n",
    "    inputs=[],\n",
    "    outputs=[\n",
    "        ProcessingOutput(output_name=\"field_data\", source=\"/opt/ml/processing\")\n",
    "    ],\n",
    "    arguments=['--bucket', 'cad-alok-singh', \n",
    "               '--folder', 'us_in_season_corn_yield', \n",
    "               '--field-file', '1_field_raw_data.csv'],\n",
    ")\n",
    "preprocessing_job_description = script_processor.jobs[-1].describe()\n",
    "\n",
    "output_config = preprocessing_job_description[\"ProcessingOutputConfig\"]\n",
    "for output in output_config[\"Outputs\"]:\n",
    "    if output[\"OutputName\"] == \"field_data\":\n",
    "        field_data = output[\"S3Output\"][\"S3Uri\"]\n",
    "print(field_data)"
   ]
  },
  {
   "cell_type": "markdown",
   "metadata": {},
   "source": [
    "## Training Job"
   ]
  },
  {
   "cell_type": "code",
   "execution_count": null,
   "metadata": {},
   "outputs": [],
   "source": [
    "bucket = 'cad-alok-singh'\n",
    "folder = 'us_in_season_corn_yield/8_stages/V0/train_test_2020'\n",
    "preprocessed_training_data = f's3://{bucket}/{folder}/train'\n",
    "preprocessed_testing_data = f's3://{bucket}/{folder}/test'\n",
    "output_dir =  f's3://{bucket}/{folder}/model'"
   ]
  },
  {
   "cell_type": "code",
   "execution_count": null,
   "metadata": {},
   "outputs": [],
   "source": [
    "%%writefile requirements.txt\n",
    "catboost==1.1"
   ]
  },
  {
   "cell_type": "code",
   "execution_count": null,
   "metadata": {},
   "outputs": [],
   "source": [
    "!mkdir code/train\n",
    "!cp train_catboost.py ./code/train\n",
    "!mv requirements.txt ./code/train"
   ]
  },
  {
   "cell_type": "code",
   "execution_count": null,
   "metadata": {},
   "outputs": [],
   "source": [
    "base_job_name = 'cad'\n",
    "tags = [\n",
    "    {'Key':'Application', 'Value':'CAD'},\n",
    "    {'Key':\"Cost Center\", 'Value':'68230'}\n",
    "]\n",
    "security_group_ids = ['sg-08ec780df00d293b0']\n",
    "subnets = ['subnet-05bd78860c2f05164','subnet-0d8e3fd5532d83e69']\n",
    "hp = {\n",
    "    \"learning_rate\": 0.1,\n",
    "    \"iterations\": 50,\n",
    "    \"max_depth\": 4,\n",
    "    \"l2_leaf_reg\": 2,\n",
    "    \"subsample\":  0.8,\n",
    "    'num_boost_round':'500'\n",
    "}\n",
    "\n",
    "sklearn = SKLearn(\n",
    "    entry_point=\"train_catboost.py\",\n",
    "    source_dir = 'code/train',\n",
    "    framework_version=\"0.20.0\", \n",
    "    instance_type=\"ml.m4.xlarge\", \n",
    "    role=role,\n",
    "    instance_count=1,\n",
    "    tags=tags,\n",
    "    sagemaker_session=sess,\n",
    "    security_group_ids= ['sg-08ec780df00d293b0'],\n",
    "    subnets= ['subnet-05bd78860c2f05164','subnet-0d8e3fd5532d83e69'],\n",
    "    base_job_name=base_job_name,\n",
    "    output_path=output_dir,\n",
    "    hyperparameters = hp\n",
    ")\n",
    "sklearn.fit({\"train\": preprocessed_training_data})"
   ]
  },
  {
   "cell_type": "markdown",
   "metadata": {},
   "source": [
    "## Multiple training jobs for multiple stages "
   ]
  },
  {
   "cell_type": "code",
   "execution_count": 20,
   "metadata": {},
   "outputs": [],
   "source": [
    "bucket = 'cad-alok-singh'\n",
    "\n",
    "stages = ['V0', 'VE', 'bin1', 'bin2', 'bin3', 'bin4', 'R2', 'R3', 'R4', 'R5']\n",
    "test_year = '2020'\n",
    "\n",
    "preprocessed_training_data_list = []\n",
    "preprocessed_testing_data_list = []\n",
    "output_dir_list = []\n",
    "\n",
    "for stage in stages:\n",
    "    \n",
    "    folder = f'us_in_season_corn_yield/8_stages/{stage}/train_test_{test_year}'\n",
    "    preprocessed_training_data_list.append( f's3://{bucket}/{folder}/train')\n",
    "    preprocessed_testing_data_list.append( f's3://{bucket}/{folder}/test')\n",
    "    output_dir_list.append( f's3://{bucket}/{folder}/model')"
   ]
  },
  {
   "cell_type": "code",
   "execution_count": 24,
   "metadata": {},
   "outputs": [
    {
     "name": "stdout",
     "output_type": "stream",
     "text": [
      "Writing requirements.txt\n"
     ]
    }
   ],
   "source": [
    "%%writefile requirements.txt\n",
    "catboost==1.1"
   ]
  },
  {
   "cell_type": "code",
   "execution_count": 26,
   "metadata": {},
   "outputs": [],
   "source": [
    "!mkdir code/train\n",
    "!cp 10_train_catboost.py ./code/train\n",
    "!cp requirements.txt ./code/train"
   ]
  },
  {
   "cell_type": "code",
   "execution_count": null,
   "metadata": {},
   "outputs": [
    {
     "name": "stdout",
     "output_type": "stream",
     "text": [
      "\n",
      "2022-09-29 02:29:55 Starting - Starting the training job....\n",
      "2022-09-29 02:30:20 Starting - Preparing the instances for training.............\n",
      "2022-09-29 02:31:28 Downloading - Downloading input data...\n",
      "2022-09-29 02:31:48 Training - Downloading the training image............\n",
      "2022-09-29 02:32:53 Training - Training image download completed. Training in progress.......\n",
      "2022-09-29 02:33:28 Uploading - Uploading generated training model..\n",
      "2022-09-29 02:33:44 Completed - Training job completed\n",
      "\n",
      "2022-09-29 02:33:47 Starting - Starting the training job.....\n",
      "2022-09-29 02:34:12 Starting - Preparing the instances for training............\n",
      "2022-09-29 02:35:20 Downloading - Downloading input data....\n",
      "2022-09-29 02:35:46 Training - Downloading the training image...........\n",
      "2022-09-29 02:36:47 Training - Training image download completed. Training in progress.......\n",
      "2022-09-29 02:37:22 Uploading - Uploading generated training model..\n",
      "2022-09-29 02:37:38 Completed - Training job completed\n",
      "\n",
      "2022-09-29 02:37:39 Starting - Starting the training job.....\n",
      "2022-09-29 02:38:05 Starting - Preparing the instances for training............\n",
      "2022-09-29 02:39:11 Downloading - Downloading input data.......\n",
      "2022-09-29 02:39:51 Training - Downloading the training image.........\n",
      "2022-09-29 02:40:43 Training - Training image download completed. Training in progress.......\n",
      "2022-09-29 02:41:17 Uploading - Uploading generated training model...\n",
      "2022-09-29 02:41:38 Completed - Training job completed\n",
      "\n",
      "2022-09-29 02:41:41 Starting - Starting the training job.....\n",
      "2022-09-29 02:42:06 Starting - Preparing the instances for training.............\n",
      "2022-09-29 02:43:20 Downloading - Downloading input data.......\n",
      "2022-09-29 02:44:00 Training - Downloading the training image.........\n",
      "2022-09-29 02:44:50 Training - Training image download completed. Training in progress.......\n",
      "2022-09-29 02:45:26 Uploading - Uploading generated training model..\n",
      "2022-09-29 02:45:42 Completed - Training job completed\n",
      "\n",
      "2022-09-29 02:45:43 Starting - Starting the training job.....\n",
      "2022-09-29 02:46:08 Starting - Preparing the instances for training......"
     ]
    }
   ],
   "source": [
    "base_job_name = 'cad'\n",
    "tags = [\n",
    "    {'Key':'Application', 'Value':'CAD'},\n",
    "    {'Key':\"Cost Center\", 'Value':'68230'}\n",
    "]\n",
    "security_group_ids = ['sg-08ec780df00d293b0']\n",
    "subnets = ['subnet-05bd78860c2f05164','subnet-0d8e3fd5532d83e69']\n",
    "hp = {\n",
    "    \"learning_rate\": 0.1,\n",
    "    \"iterations\": 50,\n",
    "    \"max_depth\": 4,\n",
    "    \"l2_leaf_reg\": 2,\n",
    "    \"subsample\":  0.8,\n",
    "    'num_boost_round':'500'\n",
    "}\n",
    "\n",
    "\n",
    "for preprocessed_training_data, output_dir in zip(preprocessed_training_data_list, output_dir_list):\n",
    "    sklearn = SKLearn(\n",
    "        entry_point=\"10_train_catboost.py\",\n",
    "        source_dir = 'code/train',\n",
    "        framework_version=\"0.20.0\", \n",
    "        instance_type=\"ml.m4.xlarge\", \n",
    "        role=role,\n",
    "        instance_count=1,\n",
    "        tags=tags,\n",
    "        sagemaker_session=sess,\n",
    "        security_group_ids= ['sg-08ec780df00d293b0'],\n",
    "        subnets= ['subnet-05bd78860c2f05164','subnet-0d8e3fd5532d83e69'],\n",
    "        base_job_name=base_job_name,\n",
    "        output_path=output_dir,\n",
    "        hyperparameters = hp,\n",
    "    )\n",
    "    sklearn.fit({\"train\": preprocessed_training_data}, logs=True)"
   ]
  }
 ],
 "metadata": {
  "instance_type": "ml.t3.medium",
  "kernelspec": {
   "display_name": "Python 3 (Data Science)",
   "language": "python",
   "name": "python3__SAGEMAKER_INTERNAL__arn:aws:sagemaker:eu-central-1:936697816551:image/datascience-1.0"
  },
  "language_info": {
   "codemirror_mode": {
    "name": "ipython",
    "version": 3
   },
   "file_extension": ".py",
   "mimetype": "text/x-python",
   "name": "python",
   "nbconvert_exporter": "python",
   "pygments_lexer": "ipython3",
   "version": "3.7.10"
  }
 },
 "nbformat": 4,
 "nbformat_minor": 4
}
