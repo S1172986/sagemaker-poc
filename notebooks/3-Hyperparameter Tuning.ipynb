{
 "cells": [
  {
   "cell_type": "code",
   "execution_count": 17,
   "metadata": {},
   "outputs": [],
   "source": [
    "import time\n",
    "import yaml\n",
    "from datetime import timezone, datetime\n",
    "import boto3\n",
    "from pathlib import Path\n",
    "import sagemaker\n",
    "from sagemaker import get_execution_role\n",
    "from sagemaker import Session\n",
    "from sagemaker.local import LocalSession\n",
    "from sagemaker.sklearn.estimator import SKLearn\n",
    "from sagemaker.tuner import ContinuousParameter, IntegerParameter, HyperparameterTuner\n",
    "from sagemaker import HyperparameterTuningJobAnalytics, Session\n",
    "from smexperiments.experiment import Experiment\n",
    "from smexperiments.search_expression import Filter, Operator, SearchExpression\n",
    "from smexperiments.trial import Trial\n",
    "from smexperiments.trial_component import TrialComponent"
   ]
  },
  {
   "cell_type": "code",
   "execution_count": 18,
   "metadata": {},
   "outputs": [],
   "source": [
    "project_directory = Path.cwd() / \"../\""
   ]
  },
  {
   "cell_type": "code",
   "execution_count": 19,
   "metadata": {},
   "outputs": [],
   "source": [
    "params = yaml.safe_load(open('../code/params.yaml'))\n",
    "hyperparameters = params[\"hyperparameters\"]\n",
    "directories = params[\"directories\"]\n",
    "datasets = params[\"datasets\"]\n",
    "sagemaker_params = yaml.safe_load(open('../params.yaml'))\n",
    "train_params = sagemaker_params[\"train\"]"
   ]
  },
  {
   "cell_type": "code",
   "execution_count": 20,
   "metadata": {},
   "outputs": [
    {
     "name": "stderr",
     "output_type": "stream",
     "text": [
      "INFO:botocore.credentials:Found credentials in shared credentials file: ~/.aws/credentials\n",
      "INFO:botocore.credentials:Found credentials in shared credentials file: ~/.aws/credentials\n"
     ]
    }
   ],
   "source": [
    "boto_session = boto3.Session()\n",
    "sagemaker_client = boto_session.client(\"sagemaker\")\n",
    "sagemaker_session = Session(\n",
    "    boto_session=boto_session,\n",
    "    sagemaker_client=sagemaker_client\n",
    ")\n",
    "region = boto_session.region_name\n",
    "role = get_execution_role()\n",
    "sagemaker_bucket = sagemaker_session.default_bucket()"
   ]
  },
  {
   "cell_type": "code",
   "execution_count": 21,
   "metadata": {},
   "outputs": [],
   "source": [
    "bucket = 'cad-alok-singh'\n",
    "folder = 'us_in_season_corn_yield/8_stages/V0/train_test_2020'\n",
    "preprocessed_training_data = f's3://{bucket}/{folder}/train'\n",
    "preprocessed_testing_data = f's3://{bucket}/{folder}/test'\n",
    "output_path =  f's3://{sagemaker_bucket}/{bucket}/{folder}/model/Tuning'"
   ]
  },
  {
   "cell_type": "code",
   "execution_count": 6,
   "metadata": {},
   "outputs": [
    {
     "name": "stdout",
     "output_type": "stream",
     "text": [
      "download: s3://cad-alok-singh/us_in_season_corn_yield/8_stages/V0/train_test_2020/train/train.csv to ../data/train/train.csv\n"
     ]
    }
   ],
   "source": [
    "!aws s3 cp $preprocessed_training_data ../data/train --recursive"
   ]
  },
  {
   "cell_type": "code",
   "execution_count": 7,
   "metadata": {},
   "outputs": [
    {
     "name": "stdout",
     "output_type": "stream",
     "text": [
      "download: s3://cad-alok-singh/us_in_season_corn_yield/8_stages/V0/train_test_2020/test/test.csv to ../data/test/test.csv\n"
     ]
    }
   ],
   "source": [
    "!aws s3 cp $preprocessed_testing_data ../data/test --recursive"
   ]
  },
  {
   "cell_type": "code",
   "execution_count": 22,
   "metadata": {},
   "outputs": [
    {
     "name": "stderr",
     "output_type": "stream",
     "text": [
      "INFO:botocore.credentials:Found credentials in shared credentials file: ~/.aws/credentials\n"
     ]
    }
   ],
   "source": [
    "sklearn_estimator = SKLearn(\n",
    "    source_dir =  str(project_directory / train_params['source_dir']),\n",
    "    entry_point=train_params[\"entry_point\"],\n",
    "    framework_version=train_params[\"framework_version\"], \n",
    "    instance_type=train_params[\"instance_type\"],\n",
    "    role=role,\n",
    "    instance_count=train_params[\"instance_count\"],\n",
    "    tags=train_params[\"tags\"],\n",
    "    base_job_name=train_params[\"base_job_name\"],\n",
    "    output_path=train_params[\"output_path\"],\n",
    "    hyperparameters=hyperparameters,\n",
    "    container_log_level=train_params[\"container_log_level\"],\n",
    "    volume_size=train_params[\"volume_size\"],\n",
    "    max_run=train_params[\"max_run\"],\n",
    "    # max_wait=train_params[\"max_wait\"],\n",
    "    enable_sagemaker_metrics=train_params[\"enable_sagemaker_metrics\"],\n",
    "    metric_definitions=train_params[\"metric_definitions\"],\n",
    "    use_spot_instances=train_params[\"use_spot_instances\"],\n",
    "    security_group_ids= train_params[\"security_group_ids\"],\n",
    "    subnets= train_params[\"subnets\"],\n",
    ")\n"
   ]
  },
  {
   "cell_type": "code",
   "execution_count": 23,
   "metadata": {},
   "outputs": [
    {
     "data": {
      "text/plain": [
       "[{'Name': 'test:mae', 'Regex': 'mae: ([\\\\d*\\\\.?\\\\d*]+);'},\n",
       " {'Name': 'test:mape', 'Regex': 'mape: ([\\\\d*\\\\.?\\\\d*]+);'},\n",
       " {'Name': 'test:rmse', 'Regex': 'rmse: ([\\\\d*\\\\.?\\\\d*]+);'}]"
      ]
     },
     "execution_count": 23,
     "metadata": {},
     "output_type": "execute_result"
    }
   ],
   "source": [
    "train_params[\"metric_definitions\"]"
   ]
  },
  {
   "cell_type": "code",
   "execution_count": 24,
   "metadata": {},
   "outputs": [],
   "source": [
    "hyperparameter_ranges = {\n",
    "    \"learning_rate\": ContinuousParameter(0.00001, 0.1, scaling_type=\"Logarithmic\"),\n",
    "    \"iterations\": IntegerParameter(50, 250),\n",
    "    \"max_depth\": IntegerParameter(1, 10),\n",
    "    \"l2_leaf_reg\": IntegerParameter(1, 10),\n",
    "    \"subsample\":  ContinuousParameter(0.1, 1.0, scaling_type=\"Linear\"),\n",
    "}"
   ]
  },
  {
   "cell_type": "code",
   "execution_count": 28,
   "metadata": {},
   "outputs": [],
   "source": [
    "base_tuning_job_name = 'gda-cad-yeild-tuning'\n",
    "\n",
    "objective_metric_name = \"test:mae\"\n",
    "tuner = HyperparameterTuner(\n",
    "    sklearn_estimator,\n",
    "    objective_metric_name,\n",
    "    hyperparameter_ranges,\n",
    "    [{\"Name\": \"test:mae\", \"Regex\": \"mae: ([\\d*\\.?\\d*]+);\"}],\n",
    "    max_jobs=10,\n",
    "    max_parallel_jobs=2,\n",
    "    objective_type=\"Minimize\",\n",
    "    base_tuning_job_name=base_tuning_job_name,\n",
    "    tags=train_params[\"tags\"]\n",
    ")"
   ]
  },
  {
   "cell_type": "code",
   "execution_count": 29,
   "metadata": {},
   "outputs": [
    {
     "name": "stderr",
     "output_type": "stream",
     "text": [
      "INFO:sagemaker.image_uris:Defaulting to the only supported framework/algorithm version: latest.\n",
      "INFO:sagemaker.image_uris:Ignoring unnecessary instance type: None.\n",
      "WARNING:sagemaker.estimator:No finished training job found associated with this estimator. Please make sure this estimator is only used for building workflow config\n",
      "INFO:sagemaker:Creating hyperparameter tuning job with name: gda-cad-yeild-tuning-221128-1054\n"
     ]
    },
    {
     "name": "stdout",
     "output_type": "stream",
     "text": [
      "......................................................................................................................!\n"
     ]
    }
   ],
   "source": [
    "tuner.fit(\n",
    "    inputs = train_params[\"inputs\"],\n",
    ")"
   ]
  },
  {
   "cell_type": "code",
   "execution_count": 30,
   "metadata": {},
   "outputs": [
    {
     "data": {
      "text/plain": [
       "'gda-cad-yeild-tuning-221128-1054-008-72c0067a'"
      ]
     },
     "execution_count": 30,
     "metadata": {},
     "output_type": "execute_result"
    }
   ],
   "source": [
    "tuner.best_training_job()"
   ]
  },
  {
   "cell_type": "code",
   "execution_count": 31,
   "metadata": {},
   "outputs": [],
   "source": [
    "results = tuner.analytics()"
   ]
  },
  {
   "cell_type": "code",
   "execution_count": 32,
   "metadata": {},
   "outputs": [
    {
     "data": {
      "text/plain": [
       "{'iterations': {'Name': 'iterations',\n",
       "  'MinValue': '50',\n",
       "  'MaxValue': '250',\n",
       "  'ScalingType': 'Auto'},\n",
       " 'max_depth': {'Name': 'max_depth',\n",
       "  'MinValue': '1',\n",
       "  'MaxValue': '10',\n",
       "  'ScalingType': 'Auto'},\n",
       " 'l2_leaf_reg': {'Name': 'l2_leaf_reg',\n",
       "  'MinValue': '1',\n",
       "  'MaxValue': '10',\n",
       "  'ScalingType': 'Auto'},\n",
       " 'learning_rate': {'Name': 'learning_rate',\n",
       "  'MinValue': '1e-05',\n",
       "  'MaxValue': '0.1',\n",
       "  'ScalingType': 'Logarithmic'},\n",
       " 'subsample': {'Name': 'subsample',\n",
       "  'MinValue': '0.1',\n",
       "  'MaxValue': '1.0',\n",
       "  'ScalingType': 'Linear'}}"
      ]
     },
     "execution_count": 32,
     "metadata": {},
     "output_type": "execute_result"
    }
   ],
   "source": [
    "results.tuning_ranges"
   ]
  },
  {
   "cell_type": "code",
   "execution_count": 33,
   "metadata": {},
   "outputs": [
    {
     "data": {
      "text/html": [
       "<div>\n",
       "<style scoped>\n",
       "    .dataframe tbody tr th:only-of-type {\n",
       "        vertical-align: middle;\n",
       "    }\n",
       "\n",
       "    .dataframe tbody tr th {\n",
       "        vertical-align: top;\n",
       "    }\n",
       "\n",
       "    .dataframe thead th {\n",
       "        text-align: right;\n",
       "    }\n",
       "</style>\n",
       "<table border=\"1\" class=\"dataframe\">\n",
       "  <thead>\n",
       "    <tr style=\"text-align: right;\">\n",
       "      <th></th>\n",
       "      <th>iterations</th>\n",
       "      <th>l2_leaf_reg</th>\n",
       "      <th>learning_rate</th>\n",
       "      <th>max_depth</th>\n",
       "      <th>subsample</th>\n",
       "      <th>TrainingJobName</th>\n",
       "      <th>TrainingJobStatus</th>\n",
       "      <th>FinalObjectiveValue</th>\n",
       "      <th>TrainingStartTime</th>\n",
       "      <th>TrainingEndTime</th>\n",
       "      <th>TrainingElapsedTimeSeconds</th>\n",
       "    </tr>\n",
       "  </thead>\n",
       "  <tbody>\n",
       "    <tr>\n",
       "      <th>0</th>\n",
       "      <td>164.0</td>\n",
       "      <td>7.0</td>\n",
       "      <td>0.013781</td>\n",
       "      <td>4.0</td>\n",
       "      <td>0.546979</td>\n",
       "      <td>gda-cad-yeild-tuning-221128-1054-010-007622c1</td>\n",
       "      <td>Completed</td>\n",
       "      <td>26.020000</td>\n",
       "      <td>2022-11-28 11:03:50+00:00</td>\n",
       "      <td>2022-11-28 11:04:47+00:00</td>\n",
       "      <td>57.0</td>\n",
       "    </tr>\n",
       "    <tr>\n",
       "      <th>1</th>\n",
       "      <td>104.0</td>\n",
       "      <td>1.0</td>\n",
       "      <td>0.011841</td>\n",
       "      <td>7.0</td>\n",
       "      <td>0.186971</td>\n",
       "      <td>gda-cad-yeild-tuning-221128-1054-009-c2142add</td>\n",
       "      <td>Completed</td>\n",
       "      <td>26.510000</td>\n",
       "      <td>2022-11-28 11:03:22+00:00</td>\n",
       "      <td>2022-11-28 11:04:18+00:00</td>\n",
       "      <td>56.0</td>\n",
       "    </tr>\n",
       "    <tr>\n",
       "      <th>2</th>\n",
       "      <td>162.0</td>\n",
       "      <td>6.0</td>\n",
       "      <td>0.016482</td>\n",
       "      <td>9.0</td>\n",
       "      <td>0.998799</td>\n",
       "      <td>gda-cad-yeild-tuning-221128-1054-008-72c0067a</td>\n",
       "      <td>Completed</td>\n",
       "      <td>25.389999</td>\n",
       "      <td>2022-11-28 11:02:23+00:00</td>\n",
       "      <td>2022-11-28 11:03:35+00:00</td>\n",
       "      <td>72.0</td>\n",
       "    </tr>\n",
       "    <tr>\n",
       "      <th>3</th>\n",
       "      <td>77.0</td>\n",
       "      <td>3.0</td>\n",
       "      <td>0.041070</td>\n",
       "      <td>1.0</td>\n",
       "      <td>0.758613</td>\n",
       "      <td>gda-cad-yeild-tuning-221128-1054-007-aa428cd6</td>\n",
       "      <td>Completed</td>\n",
       "      <td>28.059999</td>\n",
       "      <td>2022-11-28 11:01:54+00:00</td>\n",
       "      <td>2022-11-28 11:03:04+00:00</td>\n",
       "      <td>70.0</td>\n",
       "    </tr>\n",
       "    <tr>\n",
       "      <th>4</th>\n",
       "      <td>103.0</td>\n",
       "      <td>1.0</td>\n",
       "      <td>0.022519</td>\n",
       "      <td>4.0</td>\n",
       "      <td>0.100000</td>\n",
       "      <td>gda-cad-yeild-tuning-221128-1054-006-b5c3e508</td>\n",
       "      <td>Completed</td>\n",
       "      <td>26.389999</td>\n",
       "      <td>2022-11-28 11:01:08+00:00</td>\n",
       "      <td>2022-11-28 11:02:05+00:00</td>\n",
       "      <td>57.0</td>\n",
       "    </tr>\n",
       "    <tr>\n",
       "      <th>5</th>\n",
       "      <td>121.0</td>\n",
       "      <td>1.0</td>\n",
       "      <td>0.000098</td>\n",
       "      <td>9.0</td>\n",
       "      <td>0.253468</td>\n",
       "      <td>gda-cad-yeild-tuning-221128-1054-005-fc8b0300</td>\n",
       "      <td>Completed</td>\n",
       "      <td>31.459999</td>\n",
       "      <td>2022-11-28 11:00:25+00:00</td>\n",
       "      <td>2022-11-28 11:01:32+00:00</td>\n",
       "      <td>67.0</td>\n",
       "    </tr>\n",
       "    <tr>\n",
       "      <th>6</th>\n",
       "      <td>185.0</td>\n",
       "      <td>4.0</td>\n",
       "      <td>0.010094</td>\n",
       "      <td>7.0</td>\n",
       "      <td>0.243931</td>\n",
       "      <td>gda-cad-yeild-tuning-221128-1054-004-8ad10e56</td>\n",
       "      <td>Completed</td>\n",
       "      <td>25.760000</td>\n",
       "      <td>2022-11-28 10:59:07+00:00</td>\n",
       "      <td>2022-11-28 11:00:50+00:00</td>\n",
       "      <td>103.0</td>\n",
       "    </tr>\n",
       "    <tr>\n",
       "      <th>7</th>\n",
       "      <td>142.0</td>\n",
       "      <td>2.0</td>\n",
       "      <td>0.000476</td>\n",
       "      <td>8.0</td>\n",
       "      <td>0.184063</td>\n",
       "      <td>gda-cad-yeild-tuning-221128-1054-003-0efe622f</td>\n",
       "      <td>Completed</td>\n",
       "      <td>31.010000</td>\n",
       "      <td>2022-11-28 10:59:06+00:00</td>\n",
       "      <td>2022-11-28 11:00:14+00:00</td>\n",
       "      <td>68.0</td>\n",
       "    </tr>\n",
       "    <tr>\n",
       "      <th>8</th>\n",
       "      <td>96.0</td>\n",
       "      <td>6.0</td>\n",
       "      <td>0.000836</td>\n",
       "      <td>8.0</td>\n",
       "      <td>0.669637</td>\n",
       "      <td>gda-cad-yeild-tuning-221128-1054-002-977934ac</td>\n",
       "      <td>Completed</td>\n",
       "      <td>30.889999</td>\n",
       "      <td>2022-11-28 10:57:06+00:00</td>\n",
       "      <td>2022-11-28 10:58:38+00:00</td>\n",
       "      <td>92.0</td>\n",
       "    </tr>\n",
       "    <tr>\n",
       "      <th>9</th>\n",
       "      <td>247.0</td>\n",
       "      <td>4.0</td>\n",
       "      <td>0.000389</td>\n",
       "      <td>1.0</td>\n",
       "      <td>0.221506</td>\n",
       "      <td>gda-cad-yeild-tuning-221128-1054-001-e586b12f</td>\n",
       "      <td>Completed</td>\n",
       "      <td>31.299999</td>\n",
       "      <td>2022-11-28 10:56:47+00:00</td>\n",
       "      <td>2022-11-28 10:58:24+00:00</td>\n",
       "      <td>97.0</td>\n",
       "    </tr>\n",
       "  </tbody>\n",
       "</table>\n",
       "</div>"
      ],
      "text/plain": [
       "   iterations  l2_leaf_reg  learning_rate  max_depth  subsample  \\\n",
       "0       164.0          7.0       0.013781        4.0   0.546979   \n",
       "1       104.0          1.0       0.011841        7.0   0.186971   \n",
       "2       162.0          6.0       0.016482        9.0   0.998799   \n",
       "3        77.0          3.0       0.041070        1.0   0.758613   \n",
       "4       103.0          1.0       0.022519        4.0   0.100000   \n",
       "5       121.0          1.0       0.000098        9.0   0.253468   \n",
       "6       185.0          4.0       0.010094        7.0   0.243931   \n",
       "7       142.0          2.0       0.000476        8.0   0.184063   \n",
       "8        96.0          6.0       0.000836        8.0   0.669637   \n",
       "9       247.0          4.0       0.000389        1.0   0.221506   \n",
       "\n",
       "                                 TrainingJobName TrainingJobStatus  \\\n",
       "0  gda-cad-yeild-tuning-221128-1054-010-007622c1         Completed   \n",
       "1  gda-cad-yeild-tuning-221128-1054-009-c2142add         Completed   \n",
       "2  gda-cad-yeild-tuning-221128-1054-008-72c0067a         Completed   \n",
       "3  gda-cad-yeild-tuning-221128-1054-007-aa428cd6         Completed   \n",
       "4  gda-cad-yeild-tuning-221128-1054-006-b5c3e508         Completed   \n",
       "5  gda-cad-yeild-tuning-221128-1054-005-fc8b0300         Completed   \n",
       "6  gda-cad-yeild-tuning-221128-1054-004-8ad10e56         Completed   \n",
       "7  gda-cad-yeild-tuning-221128-1054-003-0efe622f         Completed   \n",
       "8  gda-cad-yeild-tuning-221128-1054-002-977934ac         Completed   \n",
       "9  gda-cad-yeild-tuning-221128-1054-001-e586b12f         Completed   \n",
       "\n",
       "   FinalObjectiveValue         TrainingStartTime           TrainingEndTime  \\\n",
       "0            26.020000 2022-11-28 11:03:50+00:00 2022-11-28 11:04:47+00:00   \n",
       "1            26.510000 2022-11-28 11:03:22+00:00 2022-11-28 11:04:18+00:00   \n",
       "2            25.389999 2022-11-28 11:02:23+00:00 2022-11-28 11:03:35+00:00   \n",
       "3            28.059999 2022-11-28 11:01:54+00:00 2022-11-28 11:03:04+00:00   \n",
       "4            26.389999 2022-11-28 11:01:08+00:00 2022-11-28 11:02:05+00:00   \n",
       "5            31.459999 2022-11-28 11:00:25+00:00 2022-11-28 11:01:32+00:00   \n",
       "6            25.760000 2022-11-28 10:59:07+00:00 2022-11-28 11:00:50+00:00   \n",
       "7            31.010000 2022-11-28 10:59:06+00:00 2022-11-28 11:00:14+00:00   \n",
       "8            30.889999 2022-11-28 10:57:06+00:00 2022-11-28 10:58:38+00:00   \n",
       "9            31.299999 2022-11-28 10:56:47+00:00 2022-11-28 10:58:24+00:00   \n",
       "\n",
       "   TrainingElapsedTimeSeconds  \n",
       "0                        57.0  \n",
       "1                        56.0  \n",
       "2                        72.0  \n",
       "3                        70.0  \n",
       "4                        57.0  \n",
       "5                        67.0  \n",
       "6                       103.0  \n",
       "7                        68.0  \n",
       "8                        92.0  \n",
       "9                        97.0  "
      ]
     },
     "execution_count": 33,
     "metadata": {},
     "output_type": "execute_result"
    }
   ],
   "source": [
    "results.dataframe()"
   ]
  },
  {
   "cell_type": "code",
   "execution_count": 34,
   "metadata": {},
   "outputs": [
    {
     "name": "stdout",
     "output_type": "stream",
     "text": [
      "Found 10 tuning jobs.\n"
     ]
    }
   ],
   "source": [
    "list_tuning_jobs_response = sagemaker_client.list_hyper_parameter_tuning_jobs(\n",
    "    SortBy=\"CreationTime\", \n",
    "    SortOrder=\"Descending\"\n",
    ")\n",
    "tuning_jobs = list_tuning_jobs_response[\"HyperParameterTuningJobSummaries\"]\n",
    "print(f'Found {len(tuning_jobs)} tuning jobs.')"
   ]
  },
  {
   "cell_type": "code",
   "execution_count": 35,
   "metadata": {},
   "outputs": [
    {
     "name": "stdout",
     "output_type": "stream",
     "text": [
      "gda-cad-yeild-tuning-221128-1054\n"
     ]
    }
   ],
   "source": [
    "most_recently_created_tuning_job = tuning_jobs[0]\n",
    "\n",
    "tuning_job_name = most_recently_created_tuning_job[\"HyperParameterTuningJobName\"]\n",
    "print(tuning_job_name)"
   ]
  },
  {
   "cell_type": "code",
   "execution_count": null,
   "metadata": {},
   "outputs": [],
   "source": []
  }
 ],
 "metadata": {
  "instance_type": "ml.t3.medium",
  "kernelspec": {
   "display_name": "Python 3 (ipykernel)",
   "language": "python",
   "name": "python3"
  },
  "language_info": {
   "codemirror_mode": {
    "name": "ipython",
    "version": 3
   },
   "file_extension": ".py",
   "mimetype": "text/x-python",
   "name": "python",
   "nbconvert_exporter": "python",
   "pygments_lexer": "ipython3",
   "version": "3.10.6"
  }
 },
 "nbformat": 4,
 "nbformat_minor": 4
}
