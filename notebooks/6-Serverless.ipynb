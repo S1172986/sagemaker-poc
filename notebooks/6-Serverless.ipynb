{
 "cells": [
  {
   "cell_type": "code",
   "execution_count": 1,
   "metadata": {},
   "outputs": [],
   "source": [
    "import pandas as pd\n",
    "import numpy as np\n",
    "from sklearn import metrics\n",
    "import boto3\n",
    "import yaml\n",
    "from pathlib import Path\n",
    "from cloudpathlib import S3Path\n",
    "import sagemaker\n",
    "from sagemaker import get_execution_role\n",
    "from sagemaker import Session\n",
    "from sagemaker.local import LocalSession\n",
    "from sagemaker.sklearn.estimator import SKLearn\n",
    "from sagemaker.sklearn.model import SKLearnModel\n",
    "from sagemaker.tuner import ContinuousParameter, IntegerParameter, HyperparameterTuner\n",
    "from sagemaker.serverless import ServerlessInferenceConfig\n",
    "from sagemaker.network import NetworkConfig"
   ]
  },
  {
   "cell_type": "code",
   "execution_count": 2,
   "metadata": {},
   "outputs": [],
   "source": [
    "project_directory = Path.cwd() / \"../\""
   ]
  },
  {
   "cell_type": "code",
   "execution_count": 3,
   "metadata": {},
   "outputs": [],
   "source": [
    "boto_session = boto3.Session()\n",
    "sagemaker_client = boto_session.client(\"sagemaker\")\n",
    "sagemaker_session = Session(\n",
    "    boto_session=boto_session,\n",
    "    sagemaker_client=sagemaker_client\n",
    ")\n",
    "region = boto_session.region_name\n",
    "role = get_execution_role()\n",
    "sagemaker_bucket = sagemaker_session.default_bucket()"
   ]
  },
  {
   "cell_type": "code",
   "execution_count": 12,
   "metadata": {},
   "outputs": [],
   "source": [
    "params = yaml.safe_load(open('../code/params.yaml'))\n",
    "hyperparameters = params[\"hyperparameters\"]\n",
    "directories = params[\"directories\"]\n",
    "datasets = params[\"datasets\"]\n",
    "sagemaker_params = yaml.safe_load(open('../params.yaml'))\n",
    "train_params = sagemaker_params[\"train\"]\n",
    "model_params = sagemaker_params[\"model\"]\n",
    "inference_params = sagemaker_params[\"inference\"]"
   ]
  },
  {
   "cell_type": "code",
   "execution_count": 5,
   "metadata": {},
   "outputs": [],
   "source": [
    "train_s3_dir = train_params[\"inputs\"][\"train\"]\n",
    "test_s3_dir = train_params[\"inputs\"][\"test\"]"
   ]
  },
  {
   "cell_type": "code",
   "execution_count": 6,
   "metadata": {},
   "outputs": [
    {
     "name": "stdout",
     "output_type": "stream",
     "text": [
      "download: s3://cad-alok-singh/us_in_season_corn_yield/8_stages/V0/train_test_2020/train/train.csv to ../data/train/train.csv\n"
     ]
    }
   ],
   "source": [
    "!aws s3 cp $train_s3_dir ../data/train --recursive"
   ]
  },
  {
   "cell_type": "code",
   "execution_count": 7,
   "metadata": {},
   "outputs": [
    {
     "name": "stdout",
     "output_type": "stream",
     "text": [
      "download: s3://cad-alok-singh/us_in_season_corn_yield/8_stages/V0/train_test_2020/test/test.csv to ../data/test/test.csv\n"
     ]
    }
   ],
   "source": [
    "!aws s3 cp $test_s3_dir ../data/test --recursive"
   ]
  },
  {
   "cell_type": "code",
   "execution_count": 8,
   "metadata": {},
   "outputs": [
    {
     "name": "stdout",
     "output_type": "stream",
     "text": [
      "2022-11-24 21:48:43 Starting - Starting the training job...\n",
      "2022-11-24 21:49:10 Starting - Preparing the instances for trainingProfilerReport-1669326522: InProgress\n",
      "............\n",
      "2022-11-24 21:51:08 Downloading - Downloading input data...\n",
      "2022-11-24 21:51:48 Training - Downloading the training image...\n",
      "2022-11-24 21:52:08 Training - Training image download completed. Training in progress.\u001b[34m2022-11-24 21:52:09,749 sagemaker-containers INFO     Imported framework sagemaker_sklearn_container.training\u001b[0m\n",
      "\u001b[34m2022-11-24 21:52:09,751 sagemaker-training-toolkit INFO     No GPUs detected (normal if no gpus installed)\u001b[0m\n",
      "\u001b[34m2022-11-24 21:52:09,762 sagemaker_sklearn_container.training INFO     Invoking user training script.\u001b[0m\n",
      "\u001b[34m2022-11-24 21:52:09,946 sagemaker-training-toolkit INFO     Installing dependencies from requirements.txt:\u001b[0m\n",
      "\u001b[34m/miniconda3/bin/python -m pip install -r requirements.txt\u001b[0m\n",
      "\u001b[34mCollecting PyYAML\n",
      "  Downloading PyYAML-6.0-cp38-cp38-manylinux_2_5_x86_64.manylinux1_x86_64.manylinux_2_12_x86_64.manylinux2010_x86_64.whl (701 kB)\n",
      "     ━━━━━━━━━━━━━━━━━━━━━━━━━━━━━━━━━━━━━━ 701.2/701.2 kB 15.6 MB/s eta 0:00:00\u001b[0m\n",
      "\u001b[34mRequirement already satisfied: joblib in /miniconda3/lib/python3.8/site-packages (from -r requirements.txt (line 2)) (1.2.0)\u001b[0m\n",
      "\u001b[34mCollecting catboost==1.1.1\n",
      "  Downloading catboost-1.1.1-cp38-none-manylinux1_x86_64.whl (76.6 MB)\u001b[0m\n",
      "\u001b[34m     ━━━━━━━━━━━━━━━━━━━━━━━━━━━━━━━━━━━━━━━━ 76.6/76.6 MB 22.6 MB/s eta 0:00:00\u001b[0m\n",
      "\u001b[34mRequirement already satisfied: pandas>=0.24.0 in /miniconda3/lib/python3.8/site-packages (from catboost==1.1.1->-r requirements.txt (line 3)) (1.1.3)\u001b[0m\n",
      "\u001b[34mRequirement already satisfied: scipy in /miniconda3/lib/python3.8/site-packages (from catboost==1.1.1->-r requirements.txt (line 3)) (1.5.3)\u001b[0m\n",
      "\u001b[34mCollecting graphviz\n",
      "  Downloading graphviz-0.20.1-py3-none-any.whl (47 kB)\n",
      "     ━━━━━━━━━━━━━━━━━━━━━━━━━━━━━━━━━━━━━━━━ 47.0/47.0 kB 12.0 MB/s eta 0:00:00\u001b[0m\n",
      "\u001b[34mCollecting matplotlib\n",
      "  Downloading matplotlib-3.6.2-cp38-cp38-manylinux_2_12_x86_64.manylinux2010_x86_64.whl (9.4 MB)\n",
      "     ━━━━━━━━━━━━━━━━━━━━━━━━━━━━━━━━━━━━━━━━ 9.4/9.4 MB 73.0 MB/s eta 0:00:00\u001b[0m\n",
      "\u001b[34mRequirement already satisfied: six in /miniconda3/lib/python3.8/site-packages (from catboost==1.1.1->-r requirements.txt (line 3)) (1.15.0)\u001b[0m\n",
      "\u001b[34mRequirement already satisfied: numpy>=1.16.0 in /miniconda3/lib/python3.8/site-packages (from catboost==1.1.1->-r requirements.txt (line 3)) (1.19.2)\u001b[0m\n",
      "\u001b[34mCollecting plotly\n",
      "  Downloading plotly-5.11.0-py2.py3-none-any.whl (15.3 MB)\n",
      "     ━━━━━━━━━━━━━━━━━━━━━━━━━━━━━━━━━━━━━━━━ 15.3/15.3 MB 63.1 MB/s eta 0:00:00\u001b[0m\n",
      "\u001b[34mRequirement already satisfied: pytz>=2017.2 in /miniconda3/lib/python3.8/site-packages (from pandas>=0.24.0->catboost==1.1.1->-r requirements.txt (line 3)) (2022.5)\u001b[0m\n",
      "\u001b[34mRequirement already satisfied: python-dateutil>=2.7.3 in /miniconda3/lib/python3.8/site-packages (from pandas>=0.24.0->catboost==1.1.1->-r requirements.txt (line 3)) (2.8.1)\u001b[0m\n",
      "\u001b[34mRequirement already satisfied: pillow>=6.2.0 in /miniconda3/lib/python3.8/site-packages (from matplotlib->catboost==1.1.1->-r requirements.txt (line 3)) (9.2.0)\u001b[0m\n",
      "\u001b[34mCollecting contourpy>=1.0.1\n",
      "  Downloading contourpy-1.0.6-cp38-cp38-manylinux_2_17_x86_64.manylinux2014_x86_64.whl (295 kB)\n",
      "     ━━━━━━━━━━━━━━━━━━━━━━━━━━━━━━━━━━━━━━ 296.0/296.0 kB 26.5 MB/s eta 0:00:00\u001b[0m\n",
      "\u001b[34mCollecting packaging>=20.0\n",
      "  Downloading packaging-21.3-py3-none-any.whl (40 kB)\n",
      "     ━━━━━━━━━━━━━━━━━━━━━━━━━━━━━━━━━━━━━━━━ 40.8/40.8 kB 11.2 MB/s eta 0:00:00\u001b[0m\n",
      "\u001b[34mCollecting fonttools>=4.22.0\n",
      "  Downloading fonttools-4.38.0-py3-none-any.whl (965 kB)\n",
      "     ━━━━━━━━━━━━━━━━━━━━━━━━━━━━━━━━━━━━━━ 965.4/965.4 kB 23.4 MB/s eta 0:00:00\u001b[0m\n",
      "\u001b[34mCollecting kiwisolver>=1.0.1\n",
      "  Downloading kiwisolver-1.4.4-cp38-cp38-manylinux_2_5_x86_64.manylinux1_x86_64.whl (1.2 MB)\n",
      "     ━━━━━━━━━━━━━━━━━━━━━━━━━━━━━━━━━━━━━━━━ 1.2/1.2 MB 27.1 MB/s eta 0:00:00\u001b[0m\n",
      "\u001b[34mCollecting pyparsing>=2.2.1\n",
      "  Downloading pyparsing-3.0.9-py3-none-any.whl (98 kB)\n",
      "     ━━━━━━━━━━━━━━━━━━━━━━━━━━━━━━━━━━━━━━━━ 98.3/98.3 kB 24.6 MB/s eta 0:00:00\u001b[0m\n",
      "\u001b[34mCollecting cycler>=0.10\n",
      "  Downloading cycler-0.11.0-py3-none-any.whl (6.4 kB)\u001b[0m\n",
      "\u001b[34mCollecting tenacity>=6.2.0\n",
      "  Downloading tenacity-8.1.0-py3-none-any.whl (23 kB)\u001b[0m\n",
      "\u001b[34mInstalling collected packages: tenacity, PyYAML, pyparsing, kiwisolver, graphviz, fonttools, cycler, contourpy, plotly, packaging, matplotlib, catboost\u001b[0m\n",
      "\u001b[34mSuccessfully installed PyYAML-6.0 catboost-1.1.1 contourpy-1.0.6 cycler-0.11.0 fonttools-4.38.0 graphviz-0.20.1 kiwisolver-1.4.4 matplotlib-3.6.2 packaging-21.3 plotly-5.11.0 pyparsing-3.0.9 tenacity-8.1.0\u001b[0m\n",
      "\u001b[34mWARNING: Running pip as the 'root' user can result in broken permissions and conflicting behaviour with the system package manager. It is recommended to use a virtual environment instead: https://pip.pypa.io/warnings/venv\u001b[0m\n",
      "\u001b[34m[notice] A new release of pip available: 22.3 -> 22.3.1\u001b[0m\n",
      "\u001b[34m[notice] To update, run: pip install --upgrade pip\u001b[0m\n",
      "\u001b[34m2022-11-24 21:52:28,185 sagemaker-training-toolkit INFO     No GPUs detected (normal if no gpus installed)\u001b[0m\n",
      "\u001b[34m2022-11-24 21:52:28,199 sagemaker-training-toolkit INFO     No GPUs detected (normal if no gpus installed)\u001b[0m\n",
      "\u001b[34m2022-11-24 21:52:28,211 sagemaker-training-toolkit INFO     No GPUs detected (normal if no gpus installed)\u001b[0m\n",
      "\u001b[34m2022-11-24 21:52:28,222 sagemaker-training-toolkit INFO     Invoking user script\u001b[0m\n",
      "\u001b[34mTraining Env:\u001b[0m\n",
      "\u001b[34m{\n",
      "    \"additional_framework_parameters\": {},\n",
      "    \"channel_input_dirs\": {\n",
      "        \"test\": \"/opt/ml/input/data/test\",\n",
      "        \"train\": \"/opt/ml/input/data/train\"\n",
      "    },\n",
      "    \"current_host\": \"algo-1\",\n",
      "    \"framework_module\": \"sagemaker_sklearn_container.training:main\",\n",
      "    \"hosts\": [\n",
      "        \"algo-1\"\n",
      "    ],\n",
      "    \"hyperparameters\": {\n",
      "        \"iterations\": 50,\n",
      "        \"l2_leaf_reg\": 2,\n",
      "        \"learning_rate\": 0.1,\n",
      "        \"loss_function\": \"MAE\",\n",
      "        \"max_depth\": 4,\n",
      "        \"random_state\": 22,\n",
      "        \"subsample\": 0.8\n",
      "    },\n",
      "    \"input_config_dir\": \"/opt/ml/input/config\",\n",
      "    \"input_data_config\": {\n",
      "        \"test\": {\n",
      "            \"TrainingInputMode\": \"File\",\n",
      "            \"S3DistributionType\": \"FullyReplicated\",\n",
      "            \"RecordWrapperType\": \"None\"\n",
      "        },\n",
      "        \"train\": {\n",
      "            \"TrainingInputMode\": \"File\",\n",
      "            \"S3DistributionType\": \"FullyReplicated\",\n",
      "            \"RecordWrapperType\": \"None\"\n",
      "        }\n",
      "    },\n",
      "    \"input_dir\": \"/opt/ml/input\",\n",
      "    \"is_master\": true,\n",
      "    \"job_name\": \"gda-yield-training-job-2022-11-24-21-48-42-138\",\n",
      "    \"log_level\": 20,\n",
      "    \"master_hostname\": \"algo-1\",\n",
      "    \"model_dir\": \"/opt/ml/model\",\n",
      "    \"module_dir\": \"s3://sagemaker-eu-central-1-226275233641/gda-yield-training-job-2022-11-24-21-48-42-138/source/sourcedir.tar.gz\",\n",
      "    \"module_name\": \"train\",\n",
      "    \"network_interface_name\": \"eth0\",\n",
      "    \"num_cpus\": 4,\n",
      "    \"num_gpus\": 0,\n",
      "    \"output_data_dir\": \"/opt/ml/output/data\",\n",
      "    \"output_dir\": \"/opt/ml/output\",\n",
      "    \"output_intermediate_dir\": \"/opt/ml/output/intermediate\",\n",
      "    \"resource_config\": {\n",
      "        \"current_host\": \"algo-1\",\n",
      "        \"current_instance_type\": \"ml.m4.xlarge\",\n",
      "        \"current_group_name\": \"homogeneousCluster\",\n",
      "        \"hosts\": [\n",
      "            \"algo-1\"\n",
      "        ],\n",
      "        \"instance_groups\": [\n",
      "            {\n",
      "                \"instance_group_name\": \"homogeneousCluster\",\n",
      "                \"instance_type\": \"ml.m4.xlarge\",\n",
      "                \"hosts\": [\n",
      "                    \"algo-1\"\n",
      "                ]\n",
      "            }\n",
      "        ],\n",
      "        \"network_interface_name\": \"eth0\"\n",
      "    },\n",
      "    \"user_entry_point\": \"train.py\"\u001b[0m\n",
      "\u001b[34m}\u001b[0m\n",
      "\u001b[34mEnvironment variables:\u001b[0m\n",
      "\u001b[34mSM_HOSTS=[\"algo-1\"]\u001b[0m\n",
      "\u001b[34mSM_NETWORK_INTERFACE_NAME=eth0\u001b[0m\n",
      "\u001b[34mSM_HPS={\"iterations\":50,\"l2_leaf_reg\":2,\"learning_rate\":0.1,\"loss_function\":\"MAE\",\"max_depth\":4,\"random_state\":22,\"subsample\":0.8}\u001b[0m\n",
      "\u001b[34mSM_USER_ENTRY_POINT=train.py\u001b[0m\n",
      "\u001b[34mSM_FRAMEWORK_PARAMS={}\u001b[0m\n",
      "\u001b[34mSM_RESOURCE_CONFIG={\"current_group_name\":\"homogeneousCluster\",\"current_host\":\"algo-1\",\"current_instance_type\":\"ml.m4.xlarge\",\"hosts\":[\"algo-1\"],\"instance_groups\":[{\"hosts\":[\"algo-1\"],\"instance_group_name\":\"homogeneousCluster\",\"instance_type\":\"ml.m4.xlarge\"}],\"network_interface_name\":\"eth0\"}\u001b[0m\n",
      "\u001b[34mSM_INPUT_DATA_CONFIG={\"test\":{\"RecordWrapperType\":\"None\",\"S3DistributionType\":\"FullyReplicated\",\"TrainingInputMode\":\"File\"},\"train\":{\"RecordWrapperType\":\"None\",\"S3DistributionType\":\"FullyReplicated\",\"TrainingInputMode\":\"File\"}}\u001b[0m\n",
      "\u001b[34mSM_OUTPUT_DATA_DIR=/opt/ml/output/data\u001b[0m\n",
      "\u001b[34mSM_CHANNELS=[\"test\",\"train\"]\u001b[0m\n",
      "\u001b[34mSM_CURRENT_HOST=algo-1\u001b[0m\n",
      "\u001b[34mSM_MODULE_NAME=train\u001b[0m\n",
      "\u001b[34mSM_LOG_LEVEL=20\u001b[0m\n",
      "\u001b[34mSM_FRAMEWORK_MODULE=sagemaker_sklearn_container.training:main\u001b[0m\n",
      "\u001b[34mSM_INPUT_DIR=/opt/ml/input\u001b[0m\n",
      "\u001b[34mSM_INPUT_CONFIG_DIR=/opt/ml/input/config\u001b[0m\n",
      "\u001b[34mSM_OUTPUT_DIR=/opt/ml/output\u001b[0m\n",
      "\u001b[34mSM_NUM_CPUS=4\u001b[0m\n",
      "\u001b[34mSM_NUM_GPUS=0\u001b[0m\n",
      "\u001b[34mSM_MODEL_DIR=/opt/ml/model\u001b[0m\n",
      "\u001b[34mSM_MODULE_DIR=s3://sagemaker-eu-central-1-226275233641/gda-yield-training-job-2022-11-24-21-48-42-138/source/sourcedir.tar.gz\u001b[0m\n",
      "\u001b[34mSM_TRAINING_ENV={\"additional_framework_parameters\":{},\"channel_input_dirs\":{\"test\":\"/opt/ml/input/data/test\",\"train\":\"/opt/ml/input/data/train\"},\"current_host\":\"algo-1\",\"framework_module\":\"sagemaker_sklearn_container.training:main\",\"hosts\":[\"algo-1\"],\"hyperparameters\":{\"iterations\":50,\"l2_leaf_reg\":2,\"learning_rate\":0.1,\"loss_function\":\"MAE\",\"max_depth\":4,\"random_state\":22,\"subsample\":0.8},\"input_config_dir\":\"/opt/ml/input/config\",\"input_data_config\":{\"test\":{\"RecordWrapperType\":\"None\",\"S3DistributionType\":\"FullyReplicated\",\"TrainingInputMode\":\"File\"},\"train\":{\"RecordWrapperType\":\"None\",\"S3DistributionType\":\"FullyReplicated\",\"TrainingInputMode\":\"File\"}},\"input_dir\":\"/opt/ml/input\",\"is_master\":true,\"job_name\":\"gda-yield-training-job-2022-11-24-21-48-42-138\",\"log_level\":20,\"master_hostname\":\"algo-1\",\"model_dir\":\"/opt/ml/model\",\"module_dir\":\"s3://sagemaker-eu-central-1-226275233641/gda-yield-training-job-2022-11-24-21-48-42-138/source/sourcedir.tar.gz\",\"module_name\":\"train\",\"network_interface_name\":\"eth0\",\"num_cpus\":4,\"num_gpus\":0,\"output_data_dir\":\"/opt/ml/output/data\",\"output_dir\":\"/opt/ml/output\",\"output_intermediate_dir\":\"/opt/ml/output/intermediate\",\"resource_config\":{\"current_group_name\":\"homogeneousCluster\",\"current_host\":\"algo-1\",\"current_instance_type\":\"ml.m4.xlarge\",\"hosts\":[\"algo-1\"],\"instance_groups\":[{\"hosts\":[\"algo-1\"],\"instance_group_name\":\"homogeneousCluster\",\"instance_type\":\"ml.m4.xlarge\"}],\"network_interface_name\":\"eth0\"},\"user_entry_point\":\"train.py\"}\u001b[0m\n",
      "\u001b[34mSM_USER_ARGS=[\"--iterations\",\"50\",\"--l2_leaf_reg\",\"2\",\"--learning_rate\",\"0.1\",\"--loss_function\",\"MAE\",\"--max_depth\",\"4\",\"--random_state\",\"22\",\"--subsample\",\"0.8\"]\u001b[0m\n",
      "\u001b[34mSM_OUTPUT_INTERMEDIATE_DIR=/opt/ml/output/intermediate\u001b[0m\n",
      "\u001b[34mSM_CHANNEL_TEST=/opt/ml/input/data/test\u001b[0m\n",
      "\u001b[34mSM_CHANNEL_TRAIN=/opt/ml/input/data/train\u001b[0m\n",
      "\u001b[34mSM_HP_ITERATIONS=50\u001b[0m\n",
      "\u001b[34mSM_HP_L2_LEAF_REG=2\u001b[0m\n",
      "\u001b[34mSM_HP_LEARNING_RATE=0.1\u001b[0m\n",
      "\u001b[34mSM_HP_LOSS_FUNCTION=MAE\u001b[0m\n",
      "\u001b[34mSM_HP_MAX_DEPTH=4\u001b[0m\n",
      "\u001b[34mSM_HP_RANDOM_STATE=22\u001b[0m\n",
      "\u001b[34mSM_HP_SUBSAMPLE=0.8\u001b[0m\n",
      "\u001b[34mPYTHONPATH=/opt/ml/code:/miniconda3/bin:/miniconda3/lib/python38.zip:/miniconda3/lib/python3.8:/miniconda3/lib/python3.8/lib-dynload:/miniconda3/lib/python3.8/site-packages\u001b[0m\n",
      "\u001b[34mInvoking script with the following command:\u001b[0m\n",
      "\u001b[34m/miniconda3/bin/python train.py --iterations 50 --l2_leaf_reg 2 --learning_rate 0.1 --loss_function MAE --max_depth 4 --random_state 22 --subsample 0.8\u001b[0m\n",
      "\u001b[34m0:#011learn: 26.9987802#011total: 56.9ms#011remaining: 2.79s\u001b[0m\n",
      "\u001b[34m1:#011learn: 26.3604856#011total: 65.4ms#011remaining: 1.57s\u001b[0m\n",
      "\u001b[34m2:#011learn: 25.8362451#011total: 74.1ms#011remaining: 1.16s\u001b[0m\n",
      "\u001b[34m3:#011learn: 25.4029476#011total: 84.3ms#011remaining: 969ms\u001b[0m\n",
      "\u001b[34m4:#011learn: 25.0383793#011total: 93.3ms#011remaining: 840ms\u001b[0m\n",
      "\u001b[34m5:#011learn: 24.7453166#011total: 101ms#011remaining: 741ms\u001b[0m\n",
      "\u001b[34m6:#011learn: 24.4002129#011total: 109ms#011remaining: 670ms\u001b[0m\n",
      "\u001b[34m7:#011learn: 24.1275638#011total: 118ms#011remaining: 617ms\u001b[0m\n",
      "\u001b[34m8:#011learn: 23.9110123#011total: 126ms#011remaining: 572ms\u001b[0m\n",
      "\u001b[34m9:#011learn: 23.7014104#011total: 134ms#011remaining: 536ms\u001b[0m\n",
      "\u001b[34m10:#011learn: 23.5051463#011total: 142ms#011remaining: 503ms\u001b[0m\n",
      "\u001b[34m11:#011learn: 23.2935467#011total: 150ms#011remaining: 474ms\u001b[0m\n",
      "\u001b[34m12:#011learn: 23.1374223#011total: 158ms#011remaining: 449ms\u001b[0m\n",
      "\u001b[34m13:#011learn: 22.9799288#011total: 166ms#011remaining: 426ms\u001b[0m\n",
      "\u001b[34m14:#011learn: 22.8370411#011total: 174ms#011remaining: 407ms\u001b[0m\n",
      "\u001b[34m15:#011learn: 22.7154898#011total: 183ms#011remaining: 389ms\u001b[0m\n",
      "\u001b[34m16:#011learn: 22.5893726#011total: 191ms#011remaining: 370ms\u001b[0m\n",
      "\u001b[34m17:#011learn: 22.4294607#011total: 199ms#011remaining: 354ms\u001b[0m\n",
      "\u001b[34m18:#011learn: 22.3148692#011total: 207ms#011remaining: 337ms\u001b[0m\n",
      "\u001b[34m19:#011learn: 22.1592068#011total: 215ms#011remaining: 322ms\u001b[0m\n",
      "\u001b[34m20:#011learn: 22.0429272#011total: 223ms#011remaining: 308ms\u001b[0m\n",
      "\u001b[34m21:#011learn: 21.9098481#011total: 231ms#011remaining: 294ms\u001b[0m\n",
      "\u001b[34m22:#011learn: 21.7220682#011total: 240ms#011remaining: 281ms\u001b[0m\n",
      "\u001b[34m23:#011learn: 21.6219569#011total: 247ms#011remaining: 268ms\u001b[0m\n",
      "\u001b[34m24:#011learn: 21.5393416#011total: 256ms#011remaining: 256ms\u001b[0m\n",
      "\u001b[34m25:#011learn: 21.4535536#011total: 263ms#011remaining: 243ms\u001b[0m\n",
      "\u001b[34m26:#011learn: 21.3546379#011total: 272ms#011remaining: 232ms\u001b[0m\n",
      "\u001b[34m27:#011learn: 21.2745696#011total: 282ms#011remaining: 222ms\u001b[0m\n",
      "\u001b[34m28:#011learn: 21.1747498#011total: 290ms#011remaining: 210ms\u001b[0m\n",
      "\u001b[34m29:#011learn: 21.1079232#011total: 298ms#011remaining: 199ms\u001b[0m\n",
      "\u001b[34m30:#011learn: 21.0509962#011total: 308ms#011remaining: 189ms\u001b[0m\n",
      "\u001b[34m31:#011learn: 20.9744115#011total: 316ms#011remaining: 178ms\u001b[0m\n",
      "\u001b[34m32:#011learn: 20.8098834#011total: 324ms#011remaining: 167ms\u001b[0m\n",
      "\u001b[34m33:#011learn: 20.7236229#011total: 332ms#011remaining: 156ms\u001b[0m\n",
      "\u001b[34m34:#011learn: 20.6218155#011total: 340ms#011remaining: 146ms\u001b[0m\n",
      "\u001b[34m35:#011learn: 20.5669146#011total: 347ms#011remaining: 135ms\u001b[0m\n",
      "\u001b[34m36:#011learn: 20.4531746#011total: 355ms#011remaining: 125ms\u001b[0m\n",
      "\u001b[34m37:#011learn: 20.3473303#011total: 363ms#011remaining: 115ms\u001b[0m\n",
      "\u001b[34m38:#011learn: 20.2787044#011total: 371ms#011remaining: 105ms\u001b[0m\n",
      "\u001b[34m39:#011learn: 20.1994170#011total: 379ms#011remaining: 94.7ms\u001b[0m\n",
      "\u001b[34m40:#011learn: 20.1065415#011total: 387ms#011remaining: 85ms\u001b[0m\n",
      "\u001b[34m41:#011learn: 20.0488350#011total: 395ms#011remaining: 75.3ms\u001b[0m\n",
      "\u001b[34m42:#011learn: 19.9472744#011total: 403ms#011remaining: 65.7ms\u001b[0m\n",
      "\u001b[34m43:#011learn: 19.8667143#011total: 412ms#011remaining: 56.1ms\u001b[0m\n",
      "\u001b[34m44:#011learn: 19.7625266#011total: 420ms#011remaining: 46.6ms\u001b[0m\n",
      "\u001b[34m45:#011learn: 19.6573884#011total: 427ms#011remaining: 37.2ms\u001b[0m\n",
      "\u001b[34m46:#011learn: 19.5869552#011total: 435ms#011remaining: 27.8ms\u001b[0m\n",
      "\u001b[34m47:#011learn: 19.5035729#011total: 443ms#011remaining: 18.5ms\u001b[0m\n",
      "\u001b[34m48:#011learn: 19.4308178#011total: 451ms#011remaining: 9.2ms\u001b[0m\n",
      "\u001b[34m49:#011learn: 19.3631385#011total: 459ms#011remaining: 0us\u001b[0m\n",
      "\u001b[34mTesting performance\u001b[0m\n",
      "\u001b[34mmae: 24.98;\u001b[0m\n",
      "\u001b[34mampe: 0.13;\u001b[0m\n",
      "\u001b[34mrmse: 30.21;\u001b[0m\n",
      "\u001b[34mr2: 0.34;\u001b[0m\n",
      "\u001b[34m2022-11-24 21:52:34,565 sagemaker-containers INFO     Reporting training SUCCESS\u001b[0m\n",
      "\n",
      "2022-11-24 21:52:48 Uploading - Uploading generated training model\n",
      "2022-11-24 21:53:08 Completed - Training job completed\n",
      "Training seconds: 116\n",
      "Billable seconds: 44\n",
      "Managed Spot Training savings: 62.1%\n"
     ]
    }
   ],
   "source": [
    "sklearn_estimator = SKLearn(\n",
    "    source_dir = str(project_directory / train_params['source_dir']),\n",
    "    entry_point=train_params[\"entry_point\"],\n",
    "    framework_version=train_params[\"framework_version\"], \n",
    "    instance_type=train_params[\"instance_type\"],\n",
    "    role=role,\n",
    "    instance_count=train_params[\"instance_count\"],\n",
    "    tags=train_params[\"tags\"],\n",
    "    base_job_name=train_params[\"base_job_name\"],\n",
    "    output_path=train_params[\"output_path\"],\n",
    "    hyperparameters=hyperparameters,\n",
    "    container_log_level=train_params[\"container_log_level\"],\n",
    "    volume_size=train_params[\"volume_size\"],\n",
    "    max_run=train_params[\"max_run\"],\n",
    "    max_wait=train_params[\"max_wait\"],\n",
    "    enable_sagemaker_metrics=train_params[\"enable_sagemaker_metrics\"],\n",
    "    metric_definitions=train_params[\"metric_definitions\"],\n",
    "    use_spot_instances=train_params[\"use_spot_instances\"],\n",
    "    security_group_ids= train_params[\"security_group_ids\"],\n",
    "    subnets= train_params[\"subnets\"],\n",
    ")\n",
    "\n",
    "sklearn_estimator.fit(\n",
    "    inputs=train_params[\"inputs\"],\n",
    "    wait=train_params[\"wait\"]\n",
    ")"
   ]
  },
  {
   "cell_type": "code",
   "execution_count": 9,
   "metadata": {},
   "outputs": [],
   "source": [
    "sklearn_inference = SKLearnModel(\n",
    "    model_data=sklearn_estimator.model_data,\n",
    "    role=role,\n",
    "    source_dir =str(project_directory / model_params['source_dir']),\n",
    "    entry_point=model_params[\"entry_point\"],\n",
    "    framework_version=model_params[\"framework_version\"], \n",
    "    name=model_params[\"name\"],\n",
    ")"
   ]
  },
  {
   "cell_type": "code",
   "execution_count": 13,
   "metadata": {},
   "outputs": [
    {
     "name": "stdout",
     "output_type": "stream",
     "text": [
      "--------!"
     ]
    }
   ],
   "source": [
    "predictor = sklearn_inference.deploy(\n",
    "    endpoint_name=inference_params[\"endpoint_name\"],\n",
    "    instance_type=inference_params[\"instance_type\"],\n",
    "    initial_instance_count=inference_params[\"initial_instance_count\"],\n",
    "    security_group_ids= inference_params[\"security_group_ids\"],\n",
    "    subnets= inference_params[\"subnets\"],\n",
    "    tags=inference_params[\"tags\"],\n",
    "    serverless_inference_config=ServerlessInferenceConfig(\n",
    "        **inference_params[\"serverles_inference_config\"]\n",
    "    ),\n",
    ")"
   ]
  },
  {
   "cell_type": "code",
   "execution_count": 14,
   "metadata": {},
   "outputs": [],
   "source": [
    "df = pd.read_csv(\"../data/test/test.csv\")\n",
    "df = df.drop(datasets[\"drop_columns\"], axis=1)\n",
    "df = df.iloc[:10,:]"
   ]
  },
  {
   "cell_type": "code",
   "execution_count": 15,
   "metadata": {},
   "outputs": [],
   "source": [
    "X_test = df.drop(datasets[\"y_column\"], axis=1)\n",
    "y_true = df[datasets[\"y_column\"]]"
   ]
  },
  {
   "cell_type": "code",
   "execution_count": 16,
   "metadata": {},
   "outputs": [],
   "source": [
    "y_pred = predictor.predict(X_test)"
   ]
  },
  {
   "cell_type": "code",
   "execution_count": 17,
   "metadata": {},
   "outputs": [
    {
     "name": "stdout",
     "output_type": "stream",
     "text": [
      "Testing performance\n",
      "MAE: 21.36\n",
      "RMSE: 26.47\n",
      "R2: 0.35\n"
     ]
    }
   ],
   "source": [
    "mae = metrics.mean_absolute_error(y_true, y_pred)\n",
    "rmse = (np.sqrt(metrics.mean_squared_error(y_true, y_pred)))\n",
    "r2 = metrics.r2_score(y_true, y_pred)\n",
    "\n",
    "print(\"Testing performance\")\n",
    "print(f\"MAE: {mae:.2f}\")\n",
    "print(f\"RMSE: {rmse:.2f}\")\n",
    "print(f\"R2: {r2:.2f}\")"
   ]
  },
  {
   "cell_type": "code",
   "execution_count": 18,
   "metadata": {},
   "outputs": [],
   "source": [
    "predictor.delete_model()\n",
    "predictor.delete_endpoint()"
   ]
  },
  {
   "cell_type": "code",
   "execution_count": null,
   "metadata": {},
   "outputs": [],
   "source": []
  }
 ],
 "metadata": {
  "instance_type": "ml.t3.medium",
  "kernelspec": {
   "display_name": "Python 3 (ipykernel)",
   "language": "python",
   "name": "python3"
  },
  "language_info": {
   "codemirror_mode": {
    "name": "ipython",
    "version": 3
   },
   "file_extension": ".py",
   "mimetype": "text/x-python",
   "name": "python",
   "nbconvert_exporter": "python",
   "pygments_lexer": "ipython3",
   "version": "3.10.6"
  }
 },
 "nbformat": 4,
 "nbformat_minor": 4
}
