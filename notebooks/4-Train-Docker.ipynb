{
 "cells": [
  {
   "cell_type": "markdown",
   "id": "0a019be1-64b5-4a54-86f2-99f2458827a8",
   "metadata": {},
   "source": [
    "# Predictor Local\n",
    "\n",
    "Spin up container in the code root directory\"\n",
    "```bash \n",
    "docker-compose -f docker-compose.serve.yaml up\n",
    "```\n",
    "\n",
    "Run the code below to carry out inference:"
   ]
  },
  {
   "cell_type": "code",
   "execution_count": null,
   "id": "0bc1a9ba-459a-46ce-9140-5282bc7c0a04",
   "metadata": {},
   "outputs": [],
   "source": [
    "import pandas as pd\n",
    "import numpy as np\n",
    "from sklearn import metrics\n",
    "from sagemaker import serializers\n",
    "import requests\n",
    "import yaml"
   ]
  },
  {
   "cell_type": "code",
   "execution_count": null,
   "id": "d53f8b98-5b2b-4765-b28e-a98ef424988d",
   "metadata": {},
   "outputs": [],
   "source": [
    "params = yaml.safe_load(open('../code/params.yaml'))\n",
    "hyperparameters = params[\"hyperparameters\"]\n",
    "directories = params[\"directories\"]\n",
    "datasets = params[\"datasets\"]\n",
    "sagemaker_params = yaml.safe_load(open('../params.yaml'))\n",
    "train_params = sagemaker_params[\"train\"]\n",
    "model_params = sagemaker_params[\"model\"]\n",
    "inference_params = sagemaker_params[\"inference\"]"
   ]
  },
  {
   "cell_type": "code",
   "execution_count": 16,
   "id": "6526f240-f516-468d-ab48-8c039a06c466",
   "metadata": {},
   "outputs": [],
   "source": [
    "df = pd.read_csv(\"../data/test/test.csv\")\n",
    "df = df.drop(datasets['drop_columns'], axis=1)"
   ]
  },
  {
   "cell_type": "code",
   "execution_count": 17,
   "id": "004d7829-b102-4c91-96e4-3467d3b78443",
   "metadata": {},
   "outputs": [],
   "source": [
    "X_test = df.drop(datasets['y_column'], axis=1)\n",
    "y_true = df[datasets['y_column']]"
   ]
  },
  {
   "cell_type": "code",
   "execution_count": null,
   "id": "85ac0ad3-5ff3-4871-ba0c-e1aa040dabd3",
   "metadata": {},
   "outputs": [],
   "source": [
    "url = 'http://localhost:8080/invocations'\n",
    "headers = {'Content-type': \"application/x-npy\"}\n",
    "serializer=serializers.NumpySerializer()\n",
    "response = requests.post(url, headers=headers, data=serializer.serialize(X_test))"
   ]
  },
  {
   "cell_type": "code",
   "execution_count": null,
   "id": "68ac941f-ece9-4e5b-abce-771441c80679",
   "metadata": {},
   "outputs": [],
   "source": [
    "y_pred = response.json()"
   ]
  },
  {
   "cell_type": "code",
   "execution_count": null,
   "id": "4997ad94-27b0-4727-970c-3f1820bc5a58",
   "metadata": {},
   "outputs": [],
   "source": [
    "mae = metrics.mean_absolute_error(y_true, y_pred)\n",
    "rmse = (np.sqrt(metrics.mean_squared_error(y_true, y_pred)))\n",
    "r2 = metrics.r2_score(y_true, y_pred)\n",
    "\n",
    "print(\"Testing performance\")\n",
    "print(f\"MAE: {mae:.2f}\")\n",
    "print(f\"RMSE: {rmse:.2f}\")\n",
    "print(f\"R2: {r2:.2f}\")"
   ]
  }
 ],
 "metadata": {
  "kernelspec": {
   "display_name": "Python 3 (ipykernel)",
   "language": "python",
   "name": "python3"
  },
  "language_info": {
   "codemirror_mode": {
    "name": "ipython",
    "version": 3
   },
   "file_extension": ".py",
   "mimetype": "text/x-python",
   "name": "python",
   "nbconvert_exporter": "python",
   "pygments_lexer": "ipython3",
   "version": "3.10.6"
  }
 },
 "nbformat": 4,
 "nbformat_minor": 5
}
