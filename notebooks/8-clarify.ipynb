{
 "cells": [
  {
   "cell_type": "code",
   "execution_count": 2,
   "metadata": {},
   "outputs": [],
   "source": [
    "import pandas as pd\n",
    "import numpy as np\n",
    "from sklearn import metrics\n",
    "import boto3\n",
    "import yaml\n",
    "from pathlib import Path\n",
    "from cloudpathlib import S3Path\n",
    "import sagemaker\n",
    "from sagemaker import get_execution_role\n",
    "from sagemaker import Session\n",
    "from sagemaker.local import LocalSession\n",
    "from sagemaker.sklearn.estimator import SKLearn\n",
    "from sagemaker.sklearn.model import SKLearnModel\n",
    "from sagemaker.tuner import ContinuousParameter, IntegerParameter, HyperparameterTuner\n",
    "from sagemaker.serverless import ServerlessInferenceConfig\n",
    "from sagemaker.network import NetworkConfig\n",
    "\n",
    "from sagemaker.analytics import ExperimentAnalytics\n",
    "from smexperiments.experiment import Experiment\n",
    "from smexperiments.trial import Trial\n",
    "from smexperiments.trial_component import TrialComponent\n",
    "from smexperiments.tracker import Tracker"
   ]
  },
  {
   "cell_type": "code",
   "execution_count": 3,
   "metadata": {},
   "outputs": [],
   "source": [
    "project_directory = Path.cwd() / \"../\""
   ]
  },
  {
   "cell_type": "code",
   "execution_count": 4,
   "metadata": {},
   "outputs": [
    {
     "name": "stderr",
     "output_type": "stream",
     "text": [
      "INFO:botocore.credentials:Found credentials in shared credentials file: ~/.aws/credentials\n",
      "INFO:botocore.credentials:Found credentials in shared credentials file: ~/.aws/credentials\n"
     ]
    }
   ],
   "source": [
    "boto_session = boto3.Session()\n",
    "sagemaker_client = boto_session.client(\"sagemaker\")\n",
    "sagemaker_session = Session(\n",
    "    boto_session=boto_session,\n",
    "    sagemaker_client=sagemaker_client\n",
    ")\n",
    "region = boto_session.region_name\n",
    "role = get_execution_role()\n",
    "sagemaker_bucket = sagemaker_session.default_bucket()"
   ]
  },
  {
   "cell_type": "code",
   "execution_count": 5,
   "metadata": {},
   "outputs": [],
   "source": [
    "params = yaml.safe_load(open('../code/params.yaml'))\n",
    "hyperparameters = params[\"hyperparameters\"]\n",
    "directories = params[\"directories\"]\n",
    "datasets = params[\"datasets\"]\n",
    "sagemaker_params = yaml.safe_load(open('../params.yaml'))\n",
    "train_params = sagemaker_params[\"train\"]\n",
    "model_params = sagemaker_params[\"model\"]\n",
    "inference_params = sagemaker_params[\"inference\"]"
   ]
  },
  {
   "cell_type": "code",
   "execution_count": 6,
   "metadata": {},
   "outputs": [],
   "source": [
    "train_s3_dir = train_params[\"inputs\"][\"train\"]\n",
    "test_s3_dir = train_params[\"inputs\"][\"test\"]"
   ]
  },
  {
   "cell_type": "code",
   "execution_count": 6,
   "metadata": {},
   "outputs": [
    {
     "name": "stdout",
     "output_type": "stream",
     "text": [
      "download: s3://cad-alok-singh/us_in_season_corn_yield/8_stages/V0/train_test_2020/train/train.csv to ../data/train/train.csv\n"
     ]
    }
   ],
   "source": [
    "!aws s3 cp $train_s3_dir ../data/train --recursive"
   ]
  },
  {
   "cell_type": "code",
   "execution_count": 7,
   "metadata": {},
   "outputs": [
    {
     "name": "stdout",
     "output_type": "stream",
     "text": [
      "download: s3://cad-alok-singh/us_in_season_corn_yield/8_stages/V0/train_test_2020/test/test.csv to ../data/test/test.csv\n"
     ]
    }
   ],
   "source": [
    "!aws s3 cp $test_s3_dir ../data/test --recursive"
   ]
  },
  {
   "cell_type": "code",
   "execution_count": 9,
   "metadata": {},
   "outputs": [
    {
     "name": "stderr",
     "output_type": "stream",
     "text": [
      "INFO:botocore.credentials:Found credentials in shared credentials file: ~/.aws/credentials\n",
      "INFO:botocore.credentials:Found credentials in shared credentials file: ~/.aws/credentials\n"
     ]
    }
   ],
   "source": [
    "experiment_name=\"gda-yeild-clarify\"\n",
    "trial_name=f\"{experiment_name}-trail\"\n",
    "\n",
    "try:\n",
    "    experiment = Experiment.load(experiment_name=experiment_name)\n",
    "except Exception as ex:\n",
    "    if \"ResourceNotFound\" in str(ex):\n",
    "        experiment = Experiment.create(\n",
    "            experiment_name=experiment_name,\n",
    "            description=\"Clarify yield\",\n",
    "            tags=train_params[\"tags\"],\n",
    "            sagemaker_boto_client=sagemaker_client,\n",
    "        )\n",
    "\n",
    "try:\n",
    "    trial = Trial.load(trial_name=f\"{trial_name}\")\n",
    "except Exception as ex:\n",
    "    if \"ResourceNotFound\" in str(ex):\n",
    "        trial = Trial.create(\n",
    "            experiment_name=experiment.experiment_name, \n",
    "            trial_name=f\"{trial_name}\",\n",
    "            tags=train_params[\"tags\"],\n",
    "            sagemaker_boto_client=sagemaker_client,\n",
    "        )"
   ]
  },
  {
   "cell_type": "code",
   "execution_count": 10,
   "metadata": {},
   "outputs": [
    {
     "name": "stderr",
     "output_type": "stream",
     "text": [
      "INFO:botocore.credentials:Found credentials in shared credentials file: ~/.aws/credentials\n",
      "INFO:sagemaker.image_uris:Defaulting to the only supported framework/algorithm version: latest.\n",
      "INFO:sagemaker.image_uris:Ignoring unnecessary instance type: None.\n",
      "INFO:sagemaker:Creating training-job with name: gda-yield-training-job-2022-11-24-23-00-13-860\n"
     ]
    },
    {
     "name": "stdout",
     "output_type": "stream",
     "text": [
      "2022-11-24 23:00:14 Starting - Starting the training job...\n",
      "2022-11-24 23:00:40 Starting - Preparing the instances for trainingProfilerReport-1669330814: InProgress\n",
      "............\n",
      "2022-11-24 23:02:38 Downloading - Downloading input data...\n",
      "2022-11-24 23:03:19 Training - Downloading the training image...\n",
      "2022-11-24 23:03:39 Training - Training image download completed. Training in progress..\u001b[34m2022-11-24 23:03:51,679 sagemaker-containers INFO     Imported framework sagemaker_sklearn_container.training\u001b[0m\n",
      "\u001b[34m2022-11-24 23:03:51,682 sagemaker-training-toolkit INFO     No GPUs detected (normal if no gpus installed)\u001b[0m\n",
      "\u001b[34m2022-11-24 23:03:51,692 sagemaker_sklearn_container.training INFO     Invoking user training script.\u001b[0m\n",
      "\u001b[34m2022-11-24 23:03:51,875 sagemaker-training-toolkit INFO     Installing dependencies from requirements.txt:\u001b[0m\n",
      "\u001b[34m/miniconda3/bin/python -m pip install -r requirements.txt\u001b[0m\n",
      "\u001b[34mCollecting PyYAML\n",
      "  Downloading PyYAML-6.0-cp38-cp38-manylinux_2_5_x86_64.manylinux1_x86_64.manylinux_2_12_x86_64.manylinux2010_x86_64.whl (701 kB)\n",
      "     ━━━━━━━━━━━━━━━━━━━━━━━━━━━━━━━━━━━━━━ 701.2/701.2 kB 11.4 MB/s eta 0:00:00\u001b[0m\n",
      "\u001b[34mRequirement already satisfied: joblib in /miniconda3/lib/python3.8/site-packages (from -r requirements.txt (line 2)) (1.2.0)\u001b[0m\n",
      "\u001b[34mCollecting catboost==1.1.1\n",
      "  Downloading catboost-1.1.1-cp38-none-manylinux1_x86_64.whl (76.6 MB)\n",
      "     ━━━━━━━━━━━━━━━━━━━━━━━━━━━━━━━━━━━━━━━━ 76.6/76.6 MB 24.5 MB/s eta 0:00:00\u001b[0m\n",
      "\u001b[34mRequirement already satisfied: pandas>=0.24.0 in /miniconda3/lib/python3.8/site-packages (from catboost==1.1.1->-r requirements.txt (line 3)) (1.1.3)\u001b[0m\n",
      "\u001b[34mRequirement already satisfied: numpy>=1.16.0 in /miniconda3/lib/python3.8/site-packages (from catboost==1.1.1->-r requirements.txt (line 3)) (1.19.2)\u001b[0m\n",
      "\u001b[34mCollecting graphviz\n",
      "  Downloading graphviz-0.20.1-py3-none-any.whl (47 kB)\n",
      "     ━━━━━━━━━━━━━━━━━━━━━━━━━━━━━━━━━━━━━━━━ 47.0/47.0 kB 12.5 MB/s eta 0:00:00\u001b[0m\n",
      "\u001b[34mCollecting plotly\n",
      "  Downloading plotly-5.11.0-py2.py3-none-any.whl (15.3 MB)\n",
      "     ━━━━━━━━━━━━━━━━━━━━━━━━━━━━━━━━━━━━━━━━ 15.3/15.3 MB 39.9 MB/s eta 0:00:00\u001b[0m\n",
      "\u001b[34mRequirement already satisfied: scipy in /miniconda3/lib/python3.8/site-packages (from catboost==1.1.1->-r requirements.txt (line 3)) (1.5.3)\u001b[0m\n",
      "\u001b[34mRequirement already satisfied: six in /miniconda3/lib/python3.8/site-packages (from catboost==1.1.1->-r requirements.txt (line 3)) (1.15.0)\u001b[0m\n",
      "\u001b[34mCollecting matplotlib\n",
      "  Downloading matplotlib-3.6.2-cp38-cp38-manylinux_2_12_x86_64.manylinux2010_x86_64.whl (9.4 MB)\n",
      "     ━━━━━━━━━━━━━━━━━━━━━━━━━━━━━━━━━━━━━━━━ 9.4/9.4 MB 70.9 MB/s eta 0:00:00\u001b[0m\n",
      "\u001b[34mRequirement already satisfied: pytz>=2017.2 in /miniconda3/lib/python3.8/site-packages (from pandas>=0.24.0->catboost==1.1.1->-r requirements.txt (line 3)) (2022.5)\u001b[0m\n",
      "\u001b[34mRequirement already satisfied: python-dateutil>=2.7.3 in /miniconda3/lib/python3.8/site-packages (from pandas>=0.24.0->catboost==1.1.1->-r requirements.txt (line 3)) (2.8.1)\u001b[0m\n",
      "\u001b[34mRequirement already satisfied: pillow>=6.2.0 in /miniconda3/lib/python3.8/site-packages (from matplotlib->catboost==1.1.1->-r requirements.txt (line 3)) (9.2.0)\u001b[0m\n",
      "\u001b[34mCollecting fonttools>=4.22.0\n",
      "  Downloading fonttools-4.38.0-py3-none-any.whl (965 kB)\n",
      "     ━━━━━━━━━━━━━━━━━━━━━━━━━━━━━━━━━━━━━━ 965.4/965.4 kB 16.0 MB/s eta 0:00:00\u001b[0m\n",
      "\u001b[34mCollecting cycler>=0.10\n",
      "  Downloading cycler-0.11.0-py3-none-any.whl (6.4 kB)\u001b[0m\n",
      "\u001b[34mCollecting kiwisolver>=1.0.1\n",
      "  Downloading kiwisolver-1.4.4-cp38-cp38-manylinux_2_5_x86_64.manylinux1_x86_64.whl (1.2 MB)\n",
      "     ━━━━━━━━━━━━━━━━━━━━━━━━━━━━━━━━━━━━━━━━ 1.2/1.2 MB 23.0 MB/s eta 0:00:00\u001b[0m\n",
      "\u001b[34mCollecting pyparsing>=2.2.1\n",
      "  Downloading pyparsing-3.0.9-py3-none-any.whl (98 kB)\n",
      "     ━━━━━━━━━━━━━━━━━━━━━━━━━━━━━━━━━━━━━━━━ 98.3/98.3 kB 25.7 MB/s eta 0:00:00\u001b[0m\n",
      "\u001b[34mCollecting packaging>=20.0\n",
      "  Downloading packaging-21.3-py3-none-any.whl (40 kB)\n",
      "     ━━━━━━━━━━━━━━━━━━━━━━━━━━━━━━━━━━━━━━━━ 40.8/40.8 kB 11.5 MB/s eta 0:00:00\u001b[0m\n",
      "\u001b[34mCollecting contourpy>=1.0.1\n",
      "  Downloading contourpy-1.0.6-cp38-cp38-manylinux_2_17_x86_64.manylinux2014_x86_64.whl (295 kB)\n",
      "     ━━━━━━━━━━━━━━━━━━━━━━━━━━━━━━━━━━━━━━ 296.0/296.0 kB 46.9 MB/s eta 0:00:00\u001b[0m\n",
      "\u001b[34mCollecting tenacity>=6.2.0\n",
      "  Downloading tenacity-8.1.0-py3-none-any.whl (23 kB)\u001b[0m\n",
      "\u001b[34mInstalling collected packages: tenacity, PyYAML, pyparsing, kiwisolver, graphviz, fonttools, cycler, contourpy, plotly, packaging, matplotlib, catboost\u001b[0m\n",
      "\n",
      "2022-11-24 23:04:23 Uploading - Uploading generated training model\u001b[34mSuccessfully installed PyYAML-6.0 catboost-1.1.1 contourpy-1.0.6 cycler-0.11.0 fonttools-4.38.0 graphviz-0.20.1 kiwisolver-1.4.4 matplotlib-3.6.2 packaging-21.3 plotly-5.11.0 pyparsing-3.0.9 tenacity-8.1.0\u001b[0m\n",
      "\u001b[34mWARNING: Running pip as the 'root' user can result in broken permissions and conflicting behaviour with the system package manager. It is recommended to use a virtual environment instead: https://pip.pypa.io/warnings/venv\u001b[0m\n",
      "\u001b[34m[notice] A new release of pip available: 22.3 -> 22.3.1\u001b[0m\n",
      "\u001b[34m[notice] To update, run: pip install --upgrade pip\u001b[0m\n",
      "\u001b[34m2022-11-24 23:04:10,613 sagemaker-training-toolkit INFO     No GPUs detected (normal if no gpus installed)\u001b[0m\n",
      "\u001b[34m2022-11-24 23:04:10,627 sagemaker-training-toolkit INFO     No GPUs detected (normal if no gpus installed)\u001b[0m\n",
      "\u001b[34m2022-11-24 23:04:10,640 sagemaker-training-toolkit INFO     No GPUs detected (normal if no gpus installed)\u001b[0m\n",
      "\u001b[34m2022-11-24 23:04:10,651 sagemaker-training-toolkit INFO     Invoking user script\u001b[0m\n",
      "\u001b[34mTraining Env:\u001b[0m\n",
      "\u001b[34m{\n",
      "    \"additional_framework_parameters\": {},\n",
      "    \"channel_input_dirs\": {\n",
      "        \"test\": \"/opt/ml/input/data/test\",\n",
      "        \"train\": \"/opt/ml/input/data/train\"\n",
      "    },\n",
      "    \"current_host\": \"algo-1\",\n",
      "    \"framework_module\": \"sagemaker_sklearn_container.training:main\",\n",
      "    \"hosts\": [\n",
      "        \"algo-1\"\n",
      "    ],\n",
      "    \"hyperparameters\": {\n",
      "        \"iterations\": 50,\n",
      "        \"l2_leaf_reg\": 2,\n",
      "        \"learning_rate\": 0.1,\n",
      "        \"loss_function\": \"MAE\",\n",
      "        \"max_depth\": 4,\n",
      "        \"random_state\": 22,\n",
      "        \"subsample\": 0.8\n",
      "    },\n",
      "    \"input_config_dir\": \"/opt/ml/input/config\",\n",
      "    \"input_data_config\": {\n",
      "        \"test\": {\n",
      "            \"TrainingInputMode\": \"File\",\n",
      "            \"S3DistributionType\": \"FullyReplicated\",\n",
      "            \"RecordWrapperType\": \"None\"\n",
      "        },\n",
      "        \"train\": {\n",
      "            \"TrainingInputMode\": \"File\",\n",
      "            \"S3DistributionType\": \"FullyReplicated\",\n",
      "            \"RecordWrapperType\": \"None\"\n",
      "        }\n",
      "    },\n",
      "    \"input_dir\": \"/opt/ml/input\",\n",
      "    \"is_master\": true,\n",
      "    \"job_name\": \"gda-yield-training-job-2022-11-24-23-00-13-860\",\n",
      "    \"log_level\": 20,\n",
      "    \"master_hostname\": \"algo-1\",\n",
      "    \"model_dir\": \"/opt/ml/model\",\n",
      "    \"module_dir\": \"s3://sagemaker-eu-central-1-226275233641/gda-yield-training-job-2022-11-24-23-00-13-860/source/sourcedir.tar.gz\",\n",
      "    \"module_name\": \"train\",\n",
      "    \"network_interface_name\": \"eth0\",\n",
      "    \"num_cpus\": 4,\n",
      "    \"num_gpus\": 0,\n",
      "    \"output_data_dir\": \"/opt/ml/output/data\",\n",
      "    \"output_dir\": \"/opt/ml/output\",\n",
      "    \"output_intermediate_dir\": \"/opt/ml/output/intermediate\",\n",
      "    \"resource_config\": {\n",
      "        \"current_host\": \"algo-1\",\n",
      "        \"current_instance_type\": \"ml.m4.xlarge\",\n",
      "        \"current_group_name\": \"homogeneousCluster\",\n",
      "        \"hosts\": [\n",
      "            \"algo-1\"\n",
      "        ],\n",
      "        \"instance_groups\": [\n",
      "            {\n",
      "                \"instance_group_name\": \"homogeneousCluster\",\n",
      "                \"instance_type\": \"ml.m4.xlarge\",\n",
      "                \"hosts\": [\n",
      "                    \"algo-1\"\n",
      "                ]\n",
      "            }\n",
      "        ],\n",
      "        \"network_interface_name\": \"eth0\"\n",
      "    },\n",
      "    \"user_entry_point\": \"train.py\"\u001b[0m\n",
      "\u001b[34m}\u001b[0m\n",
      "\u001b[34mEnvironment variables:\u001b[0m\n",
      "\u001b[34mSM_HOSTS=[\"algo-1\"]\u001b[0m\n",
      "\u001b[34mSM_NETWORK_INTERFACE_NAME=eth0\u001b[0m\n",
      "\u001b[34mSM_HPS={\"iterations\":50,\"l2_leaf_reg\":2,\"learning_rate\":0.1,\"loss_function\":\"MAE\",\"max_depth\":4,\"random_state\":22,\"subsample\":0.8}\u001b[0m\n",
      "\u001b[34mSM_USER_ENTRY_POINT=train.py\u001b[0m\n",
      "\u001b[34mSM_FRAMEWORK_PARAMS={}\u001b[0m\n",
      "\u001b[34mSM_RESOURCE_CONFIG={\"current_group_name\":\"homogeneousCluster\",\"current_host\":\"algo-1\",\"current_instance_type\":\"ml.m4.xlarge\",\"hosts\":[\"algo-1\"],\"instance_groups\":[{\"hosts\":[\"algo-1\"],\"instance_group_name\":\"homogeneousCluster\",\"instance_type\":\"ml.m4.xlarge\"}],\"network_interface_name\":\"eth0\"}\u001b[0m\n",
      "\u001b[34mSM_INPUT_DATA_CONFIG={\"test\":{\"RecordWrapperType\":\"None\",\"S3DistributionType\":\"FullyReplicated\",\"TrainingInputMode\":\"File\"},\"train\":{\"RecordWrapperType\":\"None\",\"S3DistributionType\":\"FullyReplicated\",\"TrainingInputMode\":\"File\"}}\u001b[0m\n",
      "\u001b[34mSM_OUTPUT_DATA_DIR=/opt/ml/output/data\u001b[0m\n",
      "\u001b[34mSM_CHANNELS=[\"test\",\"train\"]\u001b[0m\n",
      "\u001b[34mSM_CURRENT_HOST=algo-1\u001b[0m\n",
      "\u001b[34mSM_MODULE_NAME=train\u001b[0m\n",
      "\u001b[34mSM_LOG_LEVEL=20\u001b[0m\n",
      "\u001b[34mSM_FRAMEWORK_MODULE=sagemaker_sklearn_container.training:main\u001b[0m\n",
      "\u001b[34mSM_INPUT_DIR=/opt/ml/input\u001b[0m\n",
      "\u001b[34mSM_INPUT_CONFIG_DIR=/opt/ml/input/config\u001b[0m\n",
      "\u001b[34mSM_OUTPUT_DIR=/opt/ml/output\u001b[0m\n",
      "\u001b[34mSM_NUM_CPUS=4\u001b[0m\n",
      "\u001b[34mSM_NUM_GPUS=0\u001b[0m\n",
      "\u001b[34mSM_MODEL_DIR=/opt/ml/model\u001b[0m\n",
      "\u001b[34mSM_MODULE_DIR=s3://sagemaker-eu-central-1-226275233641/gda-yield-training-job-2022-11-24-23-00-13-860/source/sourcedir.tar.gz\u001b[0m\n",
      "\u001b[34mSM_TRAINING_ENV={\"additional_framework_parameters\":{},\"channel_input_dirs\":{\"test\":\"/opt/ml/input/data/test\",\"train\":\"/opt/ml/input/data/train\"},\"current_host\":\"algo-1\",\"framework_module\":\"sagemaker_sklearn_container.training:main\",\"hosts\":[\"algo-1\"],\"hyperparameters\":{\"iterations\":50,\"l2_leaf_reg\":2,\"learning_rate\":0.1,\"loss_function\":\"MAE\",\"max_depth\":4,\"random_state\":22,\"subsample\":0.8},\"input_config_dir\":\"/opt/ml/input/config\",\"input_data_config\":{\"test\":{\"RecordWrapperType\":\"None\",\"S3DistributionType\":\"FullyReplicated\",\"TrainingInputMode\":\"File\"},\"train\":{\"RecordWrapperType\":\"None\",\"S3DistributionType\":\"FullyReplicated\",\"TrainingInputMode\":\"File\"}},\"input_dir\":\"/opt/ml/input\",\"is_master\":true,\"job_name\":\"gda-yield-training-job-2022-11-24-23-00-13-860\",\"log_level\":20,\"master_hostname\":\"algo-1\",\"model_dir\":\"/opt/ml/model\",\"module_dir\":\"s3://sagemaker-eu-central-1-226275233641/gda-yield-training-job-2022-11-24-23-00-13-860/source/sourcedir.tar.gz\",\"module_name\":\"train\",\"network_interface_name\":\"eth0\",\"num_cpus\":4,\"num_gpus\":0,\"output_data_dir\":\"/opt/ml/output/data\",\"output_dir\":\"/opt/ml/output\",\"output_intermediate_dir\":\"/opt/ml/output/intermediate\",\"resource_config\":{\"current_group_name\":\"homogeneousCluster\",\"current_host\":\"algo-1\",\"current_instance_type\":\"ml.m4.xlarge\",\"hosts\":[\"algo-1\"],\"instance_groups\":[{\"hosts\":[\"algo-1\"],\"instance_group_name\":\"homogeneousCluster\",\"instance_type\":\"ml.m4.xlarge\"}],\"network_interface_name\":\"eth0\"},\"user_entry_point\":\"train.py\"}\u001b[0m\n",
      "\u001b[34mSM_USER_ARGS=[\"--iterations\",\"50\",\"--l2_leaf_reg\",\"2\",\"--learning_rate\",\"0.1\",\"--loss_function\",\"MAE\",\"--max_depth\",\"4\",\"--random_state\",\"22\",\"--subsample\",\"0.8\"]\u001b[0m\n",
      "\u001b[34mSM_OUTPUT_INTERMEDIATE_DIR=/opt/ml/output/intermediate\u001b[0m\n",
      "\u001b[34mSM_CHANNEL_TEST=/opt/ml/input/data/test\u001b[0m\n",
      "\u001b[34mSM_CHANNEL_TRAIN=/opt/ml/input/data/train\u001b[0m\n",
      "\u001b[34mSM_HP_ITERATIONS=50\u001b[0m\n",
      "\u001b[34mSM_HP_L2_LEAF_REG=2\u001b[0m\n",
      "\u001b[34mSM_HP_LEARNING_RATE=0.1\u001b[0m\n",
      "\u001b[34mSM_HP_LOSS_FUNCTION=MAE\u001b[0m\n",
      "\u001b[34mSM_HP_MAX_DEPTH=4\u001b[0m\n",
      "\u001b[34mSM_HP_RANDOM_STATE=22\u001b[0m\n",
      "\u001b[34mSM_HP_SUBSAMPLE=0.8\u001b[0m\n",
      "\u001b[34mPYTHONPATH=/opt/ml/code:/miniconda3/bin:/miniconda3/lib/python38.zip:/miniconda3/lib/python3.8:/miniconda3/lib/python3.8/lib-dynload:/miniconda3/lib/python3.8/site-packages\u001b[0m\n",
      "\u001b[34mInvoking script with the following command:\u001b[0m\n",
      "\u001b[34m/miniconda3/bin/python train.py --iterations 50 --l2_leaf_reg 2 --learning_rate 0.1 --loss_function MAE --max_depth 4 --random_state 22 --subsample 0.8\u001b[0m\n",
      "\u001b[34m0:#011learn: 26.9987802#011total: 56.8ms#011remaining: 2.78s\u001b[0m\n",
      "\u001b[34m1:#011learn: 26.3604856#011total: 65.2ms#011remaining: 1.56s\u001b[0m\n",
      "\u001b[34m2:#011learn: 25.8362451#011total: 73.8ms#011remaining: 1.16s\u001b[0m\n",
      "\u001b[34m3:#011learn: 25.4029476#011total: 82.2ms#011remaining: 946ms\u001b[0m\n",
      "\u001b[34m4:#011learn: 25.0383793#011total: 90.4ms#011remaining: 814ms\u001b[0m\n",
      "\u001b[34m5:#011learn: 24.7453166#011total: 98.2ms#011remaining: 720ms\u001b[0m\n",
      "\u001b[34m6:#011learn: 24.4002129#011total: 106ms#011remaining: 652ms\u001b[0m\n",
      "\u001b[34m7:#011learn: 24.1275638#011total: 114ms#011remaining: 600ms\u001b[0m\n",
      "\u001b[34m8:#011learn: 23.9110123#011total: 122ms#011remaining: 557ms\u001b[0m\n",
      "\u001b[34m9:#011learn: 23.7014104#011total: 131ms#011remaining: 524ms\u001b[0m\n",
      "\u001b[34m10:#011learn: 23.5051463#011total: 139ms#011remaining: 492ms\u001b[0m\n",
      "\u001b[34m11:#011learn: 23.2935467#011total: 147ms#011remaining: 465ms\u001b[0m\n",
      "\u001b[34m12:#011learn: 23.1374223#011total: 155ms#011remaining: 440ms\u001b[0m\n",
      "\u001b[34m13:#011learn: 22.9799288#011total: 162ms#011remaining: 417ms\u001b[0m\n",
      "\u001b[34m14:#011learn: 22.8370411#011total: 171ms#011remaining: 399ms\u001b[0m\n",
      "\u001b[34m15:#011learn: 22.7154898#011total: 179ms#011remaining: 380ms\u001b[0m\n",
      "\u001b[34m16:#011learn: 22.5893726#011total: 186ms#011remaining: 362ms\u001b[0m\n",
      "\u001b[34m17:#011learn: 22.4294607#011total: 194ms#011remaining: 345ms\u001b[0m\n",
      "\u001b[34m18:#011learn: 22.3148692#011total: 202ms#011remaining: 330ms\u001b[0m\n",
      "\u001b[34m19:#011learn: 22.1592068#011total: 211ms#011remaining: 316ms\u001b[0m\n",
      "\u001b[34m20:#011learn: 22.0429272#011total: 219ms#011remaining: 302ms\u001b[0m\n",
      "\u001b[34m21:#011learn: 21.9098481#011total: 227ms#011remaining: 289ms\u001b[0m\n",
      "\u001b[34m22:#011learn: 21.7220682#011total: 235ms#011remaining: 276ms\u001b[0m\n",
      "\u001b[34m23:#011learn: 21.6219569#011total: 243ms#011remaining: 263ms\u001b[0m\n",
      "\u001b[34m24:#011learn: 21.5393416#011total: 251ms#011remaining: 251ms\u001b[0m\n",
      "\u001b[34m25:#011learn: 21.4535536#011total: 258ms#011remaining: 238ms\u001b[0m\n",
      "\u001b[34m26:#011learn: 21.3546379#011total: 266ms#011remaining: 227ms\u001b[0m\n",
      "\u001b[34m27:#011learn: 21.2745696#011total: 274ms#011remaining: 215ms\u001b[0m\n",
      "\u001b[34m28:#011learn: 21.1747498#011total: 282ms#011remaining: 204ms\u001b[0m\n",
      "\u001b[34m29:#011learn: 21.1079232#011total: 290ms#011remaining: 194ms\u001b[0m\n",
      "\u001b[34m30:#011learn: 21.0509962#011total: 298ms#011remaining: 183ms\u001b[0m\n",
      "\u001b[34m31:#011learn: 20.9744115#011total: 306ms#011remaining: 172ms\u001b[0m\n",
      "\u001b[34m32:#011learn: 20.8098834#011total: 314ms#011remaining: 162ms\u001b[0m\n",
      "\u001b[34m33:#011learn: 20.7236229#011total: 322ms#011remaining: 152ms\u001b[0m\n",
      "\u001b[34m34:#011learn: 20.6218155#011total: 330ms#011remaining: 141ms\u001b[0m\n",
      "\u001b[34m35:#011learn: 20.5669146#011total: 337ms#011remaining: 131ms\u001b[0m\n",
      "\u001b[34m36:#011learn: 20.4531746#011total: 345ms#011remaining: 121ms\u001b[0m\n",
      "\u001b[34m37:#011learn: 20.3473303#011total: 353ms#011remaining: 112ms\u001b[0m\n",
      "\u001b[34m38:#011learn: 20.2787044#011total: 361ms#011remaining: 102ms\u001b[0m\n",
      "\u001b[34m39:#011learn: 20.1994170#011total: 369ms#011remaining: 92.2ms\u001b[0m\n",
      "\u001b[34m40:#011learn: 20.1065415#011total: 377ms#011remaining: 82.7ms\u001b[0m\n",
      "\u001b[34m41:#011learn: 20.0488350#011total: 385ms#011remaining: 73.3ms\u001b[0m\n",
      "\u001b[34m42:#011learn: 19.9472744#011total: 393ms#011remaining: 64ms\u001b[0m\n",
      "\u001b[34m43:#011learn: 19.8667143#011total: 401ms#011remaining: 54.6ms\u001b[0m\n",
      "\u001b[34m44:#011learn: 19.7625266#011total: 409ms#011remaining: 45.4ms\u001b[0m\n",
      "\u001b[34m45:#011learn: 19.6573884#011total: 417ms#011remaining: 36.3ms\u001b[0m\n",
      "\u001b[34m46:#011learn: 19.5869552#011total: 425ms#011remaining: 27.1ms\u001b[0m\n",
      "\u001b[34m47:#011learn: 19.5035729#011total: 432ms#011remaining: 18ms\u001b[0m\n",
      "\u001b[34m48:#011learn: 19.4308178#011total: 440ms#011remaining: 8.97ms\u001b[0m\n",
      "\u001b[34m49:#011learn: 19.3631385#011total: 448ms#011remaining: 0us\u001b[0m\n",
      "\u001b[34mTesting performance\u001b[0m\n",
      "\u001b[34mmae: 24.98;\u001b[0m\n",
      "\u001b[34mampe: 0.13;\u001b[0m\n",
      "\u001b[34mrmse: 30.21;\u001b[0m\n",
      "\u001b[34mr2: 0.34;\u001b[0m\n",
      "\u001b[34m2022-11-24 23:04:17,065 sagemaker-containers INFO     Reporting training SUCCESS\u001b[0m\n",
      "\n",
      "2022-11-24 23:04:39 Completed - Training job completed\n",
      "Training seconds: 127\n",
      "Billable seconds: 48\n",
      "Managed Spot Training savings: 62.2%\n"
     ]
    }
   ],
   "source": [
    "sklearn_estimator = SKLearn(\n",
    "    source_dir = str(project_directory / train_params['source_dir']),\n",
    "    entry_point=train_params[\"entry_point\"],\n",
    "    framework_version=train_params[\"framework_version\"], \n",
    "    instance_type=train_params[\"instance_type\"],\n",
    "    role=role,\n",
    "    instance_count=train_params[\"instance_count\"],\n",
    "    tags=train_params[\"tags\"],\n",
    "    base_job_name=train_params[\"base_job_name\"],\n",
    "    output_path=train_params[\"output_path\"],\n",
    "    hyperparameters=hyperparameters,\n",
    "    container_log_level=train_params[\"container_log_level\"],\n",
    "    volume_size=train_params[\"volume_size\"],\n",
    "    max_run=train_params[\"max_run\"],\n",
    "    max_wait=train_params[\"max_wait\"],\n",
    "    enable_sagemaker_metrics=train_params[\"enable_sagemaker_metrics\"],\n",
    "    metric_definitions=train_params[\"metric_definitions\"],\n",
    "    use_spot_instances=train_params[\"use_spot_instances\"],\n",
    "    security_group_ids= train_params[\"security_group_ids\"],\n",
    "    subnets= train_params[\"subnets\"],\n",
    ")\n",
    "\n",
    "sklearn_estimator.fit(\n",
    "    inputs=train_params[\"inputs\"],\n",
    "        experiment_config={\n",
    "                \"TrialName\": trial.trial_name,\n",
    "                \"TrialComponentDisplayName\": \"Training\",\n",
    "            },\n",
    "        wait=True\n",
    ")"
   ]
  },
  {
   "cell_type": "code",
   "execution_count": 41,
   "metadata": {},
   "outputs": [],
   "source": [
    "sklearn_inference = SKLearnModel(\n",
    "    model_data=sklearn_estimator.model_data,\n",
    "    role=role,\n",
    "    source_dir =str(project_directory / model_params['source_dir']),\n",
    "    entry_point=model_params[\"entry_point\"],\n",
    "    framework_version=model_params[\"framework_version\"], \n",
    "    name=model_params[\"name\"],\n",
    ")"
   ]
  },
  {
   "cell_type": "code",
   "execution_count": 42,
   "metadata": {},
   "outputs": [
    {
     "name": "stderr",
     "output_type": "stream",
     "text": [
      "INFO:botocore.credentials:Found credentials in shared credentials file: ~/.aws/credentials\n",
      "INFO:sagemaker:Creating model with name: gda-yeild-infrence-provisioned\n",
      "INFO:sagemaker:Creating endpoint-config with name gda-yeild-infrence-provisioned\n",
      "INFO:sagemaker:Creating endpoint with name gda-yeild-infrence-provisioned\n"
     ]
    },
    {
     "name": "stdout",
     "output_type": "stream",
     "text": [
      "-------!"
     ]
    }
   ],
   "source": [
    "predictor = sklearn_inference.deploy(\n",
    "    endpoint_name=inference_params[\"endpoint_name\"],\n",
    "    instance_type=inference_params[\"instance_type\"],\n",
    "    initial_instance_count=inference_params[\"initial_instance_count\"],\n",
    "    security_group_ids= inference_params[\"security_group_ids\"],\n",
    "    subnets= inference_params[\"subnets\"],\n",
    "    tags=inference_params[\"tags\"],\n",
    ")"
   ]
  },
  {
   "cell_type": "code",
   "execution_count": 43,
   "metadata": {},
   "outputs": [
    {
     "name": "stderr",
     "output_type": "stream",
     "text": [
      "INFO:sagemaker.image_uris:Defaulting to the only supported framework/algorithm version: 1.0.\n",
      "INFO:sagemaker.image_uris:Ignoring unnecessary instance type: None.\n"
     ]
    }
   ],
   "source": [
    "from sagemaker import clarify\n",
    "from sagemaker.s3 import S3Downloader, S3Uploader\n",
    "\n",
    "clarify_processor = clarify.SageMakerClarifyProcessor(\n",
    "    job_name_prefix=\"gda-yield-clarify\",\n",
    "    role=role, \n",
    "    instance_count=1, \n",
    "    instance_type=\"ml.c4.xlarge\", \n",
    "    sagemaker_session=sagemaker_session,\n",
    "    tags=inference_params[\"tags\"],\n",
    "    network_config=NetworkConfig(\n",
    "        security_group_ids= inference_params[\"security_group_ids\"],\n",
    "        subnets= inference_params[\"subnets\"],\n",
    "    )\n",
    ")"
   ]
  },
  {
   "cell_type": "code",
   "execution_count": 48,
   "metadata": {},
   "outputs": [],
   "source": [
    "df = pd.read_csv(\"../data/test/test.csv\")\n",
    "df = df.drop(datasets[\"drop_columns\"], axis=1)\n",
    "df = df.iloc[:10,:]"
   ]
  },
  {
   "cell_type": "code",
   "execution_count": 55,
   "metadata": {},
   "outputs": [
    {
     "data": {
      "text/plain": [
       "'s3://sagemaker-eu-central-1-226275233641/cad-alok-singh/us_in_season_corn_yield/8_stages/V0/train_test_2020/model/Train'"
      ]
     },
     "execution_count": 55,
     "metadata": {},
     "output_type": "execute_result"
    }
   ],
   "source": [
    "train_params[\"output_path\"]"
   ]
  },
  {
   "cell_type": "code",
   "execution_count": 51,
   "metadata": {},
   "outputs": [],
   "source": [
    "clarify_file = Path(\"../data/test/\") / \"clarify_test.csv\"\n",
    "df.to_csv(clarify_file, index=False)"
   ]
  },
  {
   "cell_type": "code",
   "execution_count": 57,
   "metadata": {},
   "outputs": [
    {
     "name": "stderr",
     "output_type": "stream",
     "text": [
      "INFO:botocore.credentials:Found credentials in shared credentials file: ~/.aws/credentials\n"
     ]
    },
    {
     "name": "stdout",
     "output_type": "stream",
     "text": [
      "s3://sagemaker-eu-central-1-226275233641/cad-alok-singh/us_in_season_corn_yield/8_stages/V0/train_test_2020/model/Train/clarify_test.csv\n"
     ]
    }
   ],
   "source": [
    "test_raw = S3Uploader.upload(str(clarify_file), train_params[\"output_path\"])\n",
    "print(test_raw)"
   ]
  },
  {
   "cell_type": "code",
   "execution_count": 58,
   "metadata": {},
   "outputs": [],
   "source": [
    "X_test = df.drop(datasets[\"y_column\"], axis=1)\n",
    "y_true = df[datasets[\"y_column\"]]"
   ]
  },
  {
   "cell_type": "code",
   "execution_count": 59,
   "metadata": {},
   "outputs": [],
   "source": [
    "y_pred = predictor.predict(X_test)"
   ]
  },
  {
   "cell_type": "code",
   "execution_count": 60,
   "metadata": {},
   "outputs": [
    {
     "name": "stdout",
     "output_type": "stream",
     "text": [
      "Testing performance\n",
      "MAE: 21.36\n",
      "RMSE: 26.47\n",
      "R2: 0.35\n"
     ]
    }
   ],
   "source": [
    "mae = metrics.mean_absolute_error(y_true, y_pred)\n",
    "rmse = (np.sqrt(metrics.mean_squared_error(y_true, y_pred)))\n",
    "r2 = metrics.r2_score(y_true, y_pred)\n",
    "\n",
    "print(\"Testing performance\")\n",
    "print(f\"MAE: {mae:.2f}\")\n",
    "print(f\"RMSE: {rmse:.2f}\")\n",
    "print(f\"R2: {r2:.2f}\")"
   ]
  },
  {
   "cell_type": "code",
   "execution_count": 61,
   "metadata": {},
   "outputs": [],
   "source": [
    "shap_config = clarify.SHAPConfig(\n",
    "    baseline=X_test.values.tolist(),\n",
    "    # num_samples=2000,  # num_samples are permutations from your features, so should be large enough as compared to number of input features, for example, 2k + 2* num_features\n",
    "    agg_method=\"mean_abs\",\n",
    "    use_logit=True,\n",
    ")  # we want the shap values to have log-odds units so that the equation 'shap values + expected probability =  predicted probability' for each instance record )"
   ]
  },
  {
   "cell_type": "code",
   "execution_count": 62,
   "metadata": {},
   "outputs": [],
   "source": [
    "explainability_data_config = clarify.DataConfig(\n",
    "    s3_data_input_path=test_raw,\n",
    "    s3_output_path=train_params[\"output_path\"],\n",
    "    label=datasets[\"y_column\"],\n",
    "    headers=df.columns.to_list(),\n",
    "    dataset_type=\"text/csv\",\n",
    ")"
   ]
  },
  {
   "cell_type": "code",
   "execution_count": 63,
   "metadata": {},
   "outputs": [],
   "source": [
    "model_config = clarify.ModelConfig(\n",
    "    model_name=sklearn_inference.name,  # specify the inference pipeline model name\n",
    "    instance_type=\"ml.c5.xlarge\",\n",
    "    instance_count=1,\n",
    "    accept_type=\"text/csv\",\n",
    ")"
   ]
  },
  {
   "cell_type": "code",
   "execution_count": 64,
   "metadata": {},
   "outputs": [
    {
     "name": "stderr",
     "output_type": "stream",
     "text": [
      "INFO:sagemaker.clarify:Analysis Config: {'dataset_type': 'text/csv', 'headers': ['year', 'variety_name2', 'yield', 'relative_maturity_2', 'soil_type_2', 'previous_crop_2', 'irrigation', 'bd_0_5', 'bd_100_200', 'bd_15_30', 'bd_30_60', 'bd_5_15', 'bd_60_100', 'clay_0_5', 'clay_100_200', 'clay_15_30', 'clay_30_60', 'clay_5_15', 'clay_60_100', 'ksat_0_5', 'ksat_100_200', 'ksat_15_30', 'ksat_30_60', 'ksat_5_15', 'ksat_60_100', 'om_0_5', 'om_30_60', 'om_5_15', 'ph_0_5', 'ph_15_30', 'ph_30_60', 'ph_5_15', 'sand_0_5', 'sand_100_200', 'sand_15_30', 'sand_5_15', 'sand_60_100', 'silt_0_5', 'silt_100_200', 'silt_15_30', 'silt_30_60', 'silt_5_15', 'silt_60_100', 'theta_r_0_5', 'theta_r_100_200', 'theta_r_15_30', 'theta_r_30_60', 'theta_r_5_15', 'theta_r_60_100', 'theta_s_0_5', 'theta_s_100_200', 'theta_s_15_30', 'theta_s_30_60', 'theta_s_5_15', 'theta_s_60_100', 'V0_as2', 'V0_as1', 'V0_frost_days', 'V0_heat_stress', 'V0_dry_days', 'V0_low_humidity', 'V0_high_humidity', 'V0_evapotranspiration_mm_surface_sum', 'V0_leaf_wetness_probability_pct_2_m_mean', 'V0_precipitation_total_mm_surface_sum', 'V0_shortwave_radiation_w_per_m2_surface_sum', 'V0_sunshine_duration_min_surface_sum', 'V0_vapor_pressure_hpa_2_m_above_gnd_avg', 'V0_photosynthetic_active_radiation_w_per_m2_surface_avg', 'V0_cloud_cover_total_pct_surface_avg', 'V0_cloud_cover_total_pct_surface_max', 'V0_cloud_cover_total_pct_surface_min', 'V0_relative_humidity_pct_2_m_above_gnd_avg', 'V0_relative_humidity_pct_2_m_above_gnd_max', 'V0_relative_humidity_pct_2_m_above_gnd_min', 'V0_soil_moisture_meter3_per_meter3_0_7_cm_down_avg', 'V0_soil_moisture_meter3_per_meter3_0_7_cm_down_max', 'V0_soil_moisture_meter3_per_meter3_0_7_cm_down_min', 'V0_soil_moisture_meter3_per_meter3_7_28_cm_down_avg', 'V0_soil_moisture_meter3_per_meter3_7_28_cm_down_max', 'V0_soil_moisture_meter3_per_meter3_7_28_cm_down_min', 'V0_soil_moisture_meter3_per_meter3_28_100_cm_down_avg', 'V0_soil_moisture_meter3_per_meter3_28_100_cm_down_max', 'V0_soil_moisture_meter3_per_meter3_28_100_cm_down_min', 'V0_soil_temperature_c_0_7_cm_down_avg', 'V0_soil_temperature_c_0_7_cm_down_max', 'V0_soil_temperature_c_0_7_cm_down_min', 'V0_soil_temperature_c_7_28_cm_down_avg', 'V0_soil_temperature_c_7_28_cm_down_max', 'V0_soil_temperature_c_7_28_cm_down_min', 'V0_soil_temperature_c_28_100_cm_down_avg', 'V0_soil_temperature_c_28_100_cm_down_max', 'V0_soil_temperature_c_28_100_cm_down_min', 'V0_temperature_c_2_m_above_gnd_avg', 'V0_temperature_c_2_m_above_gnd_max', 'V0_temperature_c_2_m_above_gnd_min', 'V0_temperature_c_2_m_above_gnd_avg_halfday_0000', 'V0_temperature_c_2_m_above_gnd_avg_halfday_1200', 'V0_wind_speed_km_per_h_2_m_above_gnd_avg', 'V0_wind_speed_km_per_h_2_m_above_gnd_max', 'V0_wind_speed_km_per_h_2_m_above_gnd_min', 'V0_gdd'], 'label': 'yield', 'predictor': {'model_name': 'gda-yeild-infrence-provisioned', 'instance_type': 'ml.c5.xlarge', 'initial_instance_count': 1, 'accept_type': 'text/csv'}, 'methods': {'report': {'name': 'report', 'title': 'Analysis Report'}, 'shap': {'use_logit': True, 'save_local_shap_values': True, 'baseline': [[2020, 'G06Q68-5222 Brand', 106.0, 'medium', 'Corn', 'Irrigated', 1.28309869766235, 1.33538162708282, 1.33353507518768, 1.35058760643005, 1.31821465492249, 1.32922029495239, 22.6526412963867, 25.0808963775635, 33.7333984375, 35.3662109375, 26.1007823944092, 29.0578231811523, 1.1163813907576, 0.922714571790676, 0.629031109795845, 0.473687147504516, 0.857019801552135, 0.761780877146385, 1.28632650291762, 0.598723841556865, 1.21708880663379, 7.1604585647583, 7.30826425552368, 7.69235324859619, 7.19556665420532, 22.537109375, 21.6890830993652, 14.718412399292, 19.9294052124023, 15.3949413299561, 51.8196868896484, 48.9819488525391, 49.333984375, 49.7898788452148, 50.7868270874023, 52.2478103637695, 0.0600933842360973, 0.0626971796154976, 0.0888347998261452, 0.0912561342120171, 0.0693548396229744, 0.0736474022269249, 0.515811800956726, 0.496082425117493, 0.496779233217239, 0.490344315767288, 0.502560496330261, 0.498407453298569, 30.15604743957518, 7.490942573547353, 0, 0, 0, 1, 0, 9.59963858127595, 15.142392009496684, 14.413400650024371, 26441.29296875, 2621.835632324218, 14.982302665710424, nan, 26.006464838981625, 100.000007629395, 0.0, 70.82649421691896, 99.1375122070312, 37.5492973327637, 0.2327304258942602, 0.347211927175522, 0.192069575190544, 0.187402740120888, 0.197468340396881, 0.182928383350372, 0.2096222154796125, 0.211566060781479, 0.20793405175209, 20.301513195037824, 26.7727184295654, 14.8059730529785, 19.29250860214235, 20.8003787994385, 17.5423774719238, 15.72110176086425, 16.2445049285889, 15.0416498184204, 18.836130142211925, 26.3925762176514, 11.6377620697021, 18.6403169631958, 23.33985328674317, 12.276000976562496, 22.5705432891846, 1.70872378349304, 16.996542263031], [2020, 'G12S75-5122 Brand', 112.0, 'medium', 'Soybean', 'None', 1.30500984191895, 1.2916179895401, 1.31897354125977, 1.32650375366211, 1.30968809127808, 1.32022488117218, 23.4059734344482, 18.7033405303955, 24.9266014099121, 24.2649364471436, 23.8974609375, 20.6064453125, 1.45693512113615, 2.41807712056088, 1.10732199834594, 2.50448008262274, 1.32181824668608, 2.09490848138699, 1.39746781210922, 0.672692761640362, 1.34723839137838, 7.45044612884521, 7.52365064620972, 7.66773509979248, 7.47219562530518, 17.7935409545898, 27.4064331054688, 15.3047103881836, 16.8639907836914, 28.3497543334961, 54.4560966491699, 43.5224838256836, 55.1117630004883, 51.6663436889648, 54.7027435302734, 45.0831718444824, 0.070864349603653, 0.0526614636182785, 0.0720215067267418, 0.0595874898135662, 0.0719534009695053, 0.062254399061203, 0.507543444633484, 0.512597024440765, 0.50227415561676, 0.499432504177094, 0.505778074264526, 0.50180196762085, 30.15604743957518, 7.490942573547353, 0, 0, 0, 7, 0, 31.10656547546389, 13.842898918522728, 27.318529725074743, 53507.86645507812, 3843.561706542969, 9.998668193817135, nan, 46.771250089009605, 100.0, 0.0, 62.18598429361979, 94.0773696899414, 29.3048133850098, 0.3732343051168654, 0.434120506048203, 0.34059351682663, 0.3811096648375193, 0.401804536581039, 0.357033252716064, 0.3808936112456853, 0.385632157325745, 0.376947104930878, 14.56906159718831, 24.2391147613525, 5.7084789276123, 14.011892530653212, 18.6648979187012, 10.1892223358154, 12.312640508015944, 12.8537664413452, 11.4906616210938, 14.17423046959771, 28.4688129425049, 3.97528696060181, 14.010451740688744, 17.941137843661853, 9.663607067532007, 22.9816932678223, 1.21913981437683, 11.1932438441686], [2020, 'G12S75-5122 Brand', 112.0, 'medium', 'Corn', 'Irrigated', 1.28309869766235, 1.33538162708282, 1.33353507518768, 1.35058760643005, 1.31821465492249, 1.32922029495239, 22.6526412963867, 25.0808963775635, 33.7333984375, 35.3662109375, 26.1007823944092, 29.0578231811523, 1.1163813907576, 0.922714571790676, 0.629031109795845, 0.473687147504516, 0.857019801552135, 0.761780877146385, 1.28632650291762, 0.598723841556865, 1.21708880663379, 7.1604585647583, 7.30826425552368, 7.69235324859619, 7.19556665420532, 22.537109375, 21.6890830993652, 14.718412399292, 19.9294052124023, 15.3949413299561, 51.8196868896484, 48.9819488525391, 49.333984375, 49.7898788452148, 50.7868270874023, 52.2478103637695, 0.0600933842360973, 0.0626971796154976, 0.0888347998261452, 0.0912561342120171, 0.0693548396229744, 0.0736474022269249, 0.515811800956726, 0.496082425117493, 0.496779233217239, 0.490344315767288, 0.502560496330261, 0.498407453298569, 30.15604743957518, 7.490942573547353, 0, 0, 0, 1, 0, 9.59963858127595, 15.142392009496684, 14.413400650024371, 26441.29296875, 2621.835632324218, 14.982302665710424, nan, 26.006464838981625, 100.000007629395, 0.0, 70.82649421691896, 99.1375122070312, 37.5492973327637, 0.2327304258942602, 0.347211927175522, 0.192069575190544, 0.187402740120888, 0.197468340396881, 0.182928383350372, 0.2096222154796125, 0.211566060781479, 0.20793405175209, 20.301513195037824, 26.7727184295654, 14.8059730529785, 19.29250860214235, 20.8003787994385, 17.5423774719238, 15.72110176086425, 16.2445049285889, 15.0416498184204, 18.836130142211925, 26.3925762176514, 11.6377620697021, 18.6403169631958, 23.33985328674317, 12.276000976562496, 22.5705432891846, 1.70872378349304, 16.996542263031], [2020, 'G16K01-3111 Brand', 116.0, 'medium', 'rare', 'None', 1.52837896347046, 1.60105466842651, 1.57887804508209, 1.54636716842651, 1.55199217796326, 1.57616579532623, 3.703125, 6.05392169952393, 5.66226768493652, 7.16209602355957, 4.22825050354004, 6.0029354095459, 11.2240614781682, 5.73745543285618, 9.22502367163134, 10.6907406126663, 9.45659197973997, 10.166238779504, 0.587441572907677, 0.130962934970062, 0.529964270877617, 6.15007400512695, 6.09480094909668, 6.12125730514526, 6.1444845199585, 84.7093963623047, 84.5215072631836, 84.6555786132812, 84.5519104003906, 83.7917098999023, 8.8631010055542, 7.0634765625, 6.35029315948486, 4.29902458190918, 8.2998046875, 5.47653961181641, 0.0304187871515751, 0.0343287661671638, 0.033106341958046, 0.0376911051571369, 0.0300937481224537, 0.0323843881487846, 0.423253268003464, 0.395828425884247, 0.404196977615356, 0.416465222835541, 0.4143425822258, 0.405220478773117, 30.15604743957518, 7.490942573547353, 0, 0, 0, 8, 0, 36.99850916862486, 23.400998433430985, 66.78127172589295, 67939.57104492188, 6194.184417724611, 10.67865975697835, nan, 27.27888568242392, 100.0, 0.0, 61.69767443339032, 99.3285751342773, 21.0506153106689, 0.3048968240618705, 0.415187567472458, 0.204099655151367, 0.2481804241736728, 0.281258463859558, 0.198147594928741, 0.192743514974912, 0.198968887329102, 0.188906148076057, 15.819925308227534, 23.0076675415039, 8.74614810943604, 14.871609369913736, 16.8373680114746, 12.8907461166382, 12.16289297739665, 12.7769994735718, 11.1801319122314, 16.021448612213117, 26.5571365356445, 6.08992671966553, 15.865220705668134, 19.614703973134365, 9.671297391255704, 24.4126586914062, 1.71695673465729, 13.0609605789185], [2020, 'G12U17-3120 Brand', 112.0, 'medium', 'Corn', 'Irrigated', 1.28309869766235, 1.33538162708282, 1.33353507518768, 1.35058760643005, 1.31821465492249, 1.32922029495239, 22.6526412963867, 25.0808963775635, 33.7333984375, 35.3662109375, 26.1007823944092, 29.0578231811523, 1.1163813907576, 0.922714571790676, 0.629031109795845, 0.473687147504516, 0.857019801552135, 0.761780877146385, 1.28632650291762, 0.598723841556865, 1.21708880663379, 7.1604585647583, 7.30826425552368, 7.69235324859619, 7.19556665420532, 22.537109375, 21.6890830993652, 14.718412399292, 19.9294052124023, 15.3949413299561, 51.8196868896484, 48.9819488525391, 49.333984375, 49.7898788452148, 50.7868270874023, 52.2478103637695, 0.0600933842360973, 0.0626971796154976, 0.0888347998261452, 0.0912561342120171, 0.0693548396229744, 0.0736474022269249, 0.515811800956726, 0.496082425117493, 0.496779233217239, 0.490344315767288, 0.502560496330261, 0.498407453298569, 30.15604743957518, 7.490942573547353, 0, 0, 0, 1, 0, 9.59963858127595, 15.142392009496684, 14.413400650024371, 26441.29296875, 2621.835632324218, 14.982302665710424, nan, 26.006464838981625, 100.000007629395, 0.0, 70.82649421691896, 99.1375122070312, 37.5492973327637, 0.2327304258942602, 0.347211927175522, 0.192069575190544, 0.187402740120888, 0.197468340396881, 0.182928383350372, 0.2096222154796125, 0.211566060781479, 0.20793405175209, 20.301513195037824, 26.7727184295654, 14.8059730529785, 19.29250860214235, 20.8003787994385, 17.5423774719238, 15.72110176086425, 16.2445049285889, 15.0416498184204, 18.836130142211925, 26.3925762176514, 11.6377620697021, 18.6403169631958, 23.33985328674317, 12.276000976562496, 22.5705432891846, 1.70872378349304, 16.996542263031], [2020, 'G12S75-5122 Brand', 112.0, 'moderately_fine', 'Soybean', 'None', 1.23779726028442, 1.48184752464294, 1.28791630268097, 1.34984397888184, 1.2469140291214, 1.43142294883728, 31.5205078125, 37.5684928894043, 34.9148025512695, 38.5146484375, 32.2436370849609, 39.0194931030273, 1.12889774456322, 0.236473779347235, 0.798171984442597, 0.357105061834338, 1.06510566992188, 0.280284251031937, 1.74384084129699, 0.579795530765563, 1.35693356169209, 6.23529052734375, 6.28727102279663, 6.29092979431152, 6.25337505340576, 12.8681640625, 22.6573791503906, 12.1011734008789, 12.3111553192139, 18.1991233825684, 57.4431381225586, 40.9001998901367, 53.9602546691895, 48.4588241577148, 56.86328125, 43.975025177002, 0.080257810652256, 0.10863821208477, 0.0918731689453125, 0.109207771718502, 0.0818276256322861, 0.10864195227623, 0.527933418750763, 0.439958691596985, 0.504911541938782, 0.485836207866669, 0.523329496383667, 0.461678147315979, 30.15604743957518, 7.490942573547353, 0, 0, 0, 2, 0, 23.03615045547484, 11.149316024780273, 21.338735699653544, 36831.705078125, 830.7750625610361, 15.00571594238282, nan, 82.40883026123046, 100.0, 0.226649299263954, 76.70213165283204, 96.1428527832031, 55.4793701171875, 0.3660216450691224, 0.415118992328644, 0.350043952465057, 0.3754100143909453, 0.394569873809814, 0.361567467451096, 0.3935630917549134, 0.396525233983994, 0.389366388320923, 16.788474655151358, 20.9051704406738, 13.054461479187, 16.01397399902344, 17.7839260101318, 14.1462888717651, 13.4864845275879, 14.0685787200928, 13.0847244262695, 17.04529705047606, 24.5315933227539, 12.685115814209, 16.93940830230712, 19.480753326416, 8.989557456970218, 15.1283130645752, 4.40419816970825, 13.1087268590927], [2020, 'G18D87-3111 Brand', 118.0, 'medium', 'Soybean', 'None', 1.34104585647583, 1.36699223518372, 1.35940372943878, 1.36464834213257, 1.34872794151306, 1.36789059638977, 15.3543510437012, 13.2546253204346, 14.6395130157471, 13.7575607299805, 15.2353515625, 12.9603328704834, 2.91164157367698, 3.02883127896746, 3.14895447720505, 3.24537748025953, 3.0049451510693, 3.04777805648125, 1.09225378630012, 0.375980973304506, 1.07517940820037, 6.71507549285889, 6.77382850646973, 6.74824714660645, 6.78025150299072, 12.749755859375, 24.2177734375, 18.1562194824219, 12.6557302474976, 22.3591003417969, 61.8496551513672, 49.6159820556641, 57.0575065612793, 56.4020538330078, 60.7952079772949, 55.3681640625, 0.0495408549904823, 0.0466627702116966, 0.0434467270970345, 0.0406926795840263, 0.0474310852587223, 0.0406382977962494, 0.493944942951202, 0.484153896570206, 0.487017512321472, 0.485038340091705, 0.491046041250229, 0.483814895153046, 30.15604743957518, 7.490942573547353, 0, 0, 0, 5, 0, 22.76436853408813, 13.62024115522702, 24.597605049610145, 32465.54638671875, 2642.738250732423, 12.446581840515137, nan, 44.36259730656944, 100.0, 0.0, 65.97222646077473, 96.6525268554688, 33.7677764892578, 0.3736978967984516, 0.437766224145889, 0.343405663967133, 0.3851496179898581, 0.426467567682266, 0.35650423169136, 0.3748417745033901, 0.378239303827286, 0.370799273252487, 15.461246331532818, 23.3815536499023, 7.23128843307495, 14.353782494862868, 18.2319755554199, 10.5175695419312, 11.723726590474447, 12.2728080749512, 10.7832975387573, 16.601941426595065, 29.1193084716797, 7.13203239440918, 16.552499294281017, 17.3743782043457, 8.330816189448031, 17.264518737793, 3.0357449054718, 16.9596457958222], [2020, 'G08M20-3120 Brand', 108.0, 'medium', 'Soybean', 'None', 1.2997350692749, 1.42576169967651, 1.32032251358032, 1.35630857944489, 1.30345714092255, 1.41463339328766, 19.9829273223877, 25.291015625, 23.3401565551758, 31.4514083862305, 20.65234375, 35.7952117919922, 2.35706610667103, 0.927908269652347, 2.03197267343077, 1.23292030979456, 2.254122191865, 0.624037843991841, 2.02076603828556, 1.02339626982403, 2.61180929993637, 6.16364002227783, 6.01603937149048, 5.62635517120361, 6.14352226257324, 3.05750465393066, 4.47371006011963, 3.1270694732666, 3.01707315444946, 2.509765625, 74.017578125, 66.1101837158203, 70.5506820678711, 62.517578125, 73.205078125, 58.3741455078125, 0.0560682937502861, 0.0666725635528564, 0.0629395693540573, 0.0880215540528297, 0.0566601753234863, 0.101808026432991, 0.509533941745758, 0.461976736783981, 0.501765072345734, 0.488185465335846, 0.508129477500916, 0.466176092624664, 30.15604743957518, 7.490942573547353, 0, 0, 1, 9, 0, 32.42426335811617, 14.138804269107906, 59.78570156544454, 55087.99694824219, 4065.18645477295, 8.561545718799938, 100.21173199740336, 51.623832009055405, 100.0, 0.0, 62.59377843683417, 95.3451156616211, 28.3456707000732, 0.376387444409457, 0.439142882823944, 0.327285706996918, 0.3876141797412525, 0.438857138156891, 0.348999977111816, 0.3892544074492022, 0.395714312791824, 0.36842867732048, 12.4052704030817, 22.4657115936279, 4.61142635345459, 12.007294568148536, 17.6957149505615, 8.7857141494751, 11.215789534828872, 11.9099988937378, 10.3671426773071, 11.707748152992934, 26.2868061065674, 1.38938927650452, 11.626134438948188, 13.883496125539132, 9.81590544093738, 25.2092437744141, 1.20837163925171, 9.28095769882202], [2020, 'G06Q68-5222 Brand', 106.0, 'medium', 'Corn', 'Irrigated', 1.28309869766235, 1.33538162708282, 1.33353507518768, 1.35058760643005, 1.31821465492249, 1.32922029495239, 22.6526412963867, 25.0808963775635, 33.7333984375, 35.3662109375, 26.1007823944092, 29.0578231811523, 1.1163813907576, 0.922714571790676, 0.629031109795845, 0.473687147504516, 0.857019801552135, 0.761780877146385, 1.28632650291762, 0.598723841556865, 1.21708880663379, 7.1604585647583, 7.30826425552368, 7.69235324859619, 7.19556665420532, 22.537109375, 21.6890830993652, 14.718412399292, 19.9294052124023, 15.3949413299561, 51.8196868896484, 48.9819488525391, 49.333984375, 49.7898788452148, 50.7868270874023, 52.2478103637695, 0.0600933842360973, 0.0626971796154976, 0.0888347998261452, 0.0912561342120171, 0.0693548396229744, 0.0736474022269249, 0.515811800956726, 0.496082425117493, 0.496779233217239, 0.490344315767288, 0.502560496330261, 0.498407453298569, 30.15604743957518, 7.490942573547353, 0, 0, 0, 1, 0, 9.59963858127595, 15.142392009496684, 14.413400650024371, 26441.29296875, 2621.835632324218, 14.982302665710424, nan, 26.006464838981625, 100.000007629395, 0.0, 70.82649421691896, 99.1375122070312, 37.5492973327637, 0.2327304258942602, 0.347211927175522, 0.192069575190544, 0.187402740120888, 0.197468340396881, 0.182928383350372, 0.2096222154796125, 0.211566060781479, 0.20793405175209, 20.301513195037824, 26.7727184295654, 14.8059730529785, 19.29250860214235, 20.8003787994385, 17.5423774719238, 15.72110176086425, 16.2445049285889, 15.0416498184204, 18.836130142211925, 26.3925762176514, 11.6377620697021, 18.6403169631958, 23.33985328674317, 12.276000976562496, 22.5705432891846, 1.70872378349304, 16.996542263031], [2020, 'P0343AML', 103.0, 'moderately_fine', 'Soybean', 'None', 1.31719446182251, 1.52990221977234, 1.38958930969238, 1.38407409191132, 1.34728252887726, 1.4180314540863, 20.1585121154785, 33.8473167419434, 24.5864448547363, 37.0897941589355, 20.7365589141846, 41.359375, 1.36495041583591, 0.292705593475653, 0.811810489573416, 0.428658961038115, 1.20827442750869, 0.204882235628445, 2.12612063505991, 0.778729675656323, 1.96088083941802, 5.81224250793457, 5.79247665405273, 5.84750413894653, 5.80658674240112, 22.8723201751709, 17.1946334838867, 20.6626091003418, 22.622688293457, 12.1169586181641, 54.5313110351562, 45.8560981750488, 51.4297561645508, 44.5489234924316, 54.1408996582031, 43.1239013671875, 0.0536572560667992, 0.0931341797113419, 0.0579334646463394, 0.0798064470291138, 0.0542066320776939, 0.0991350263357162, 0.502945482730865, 0.422678411006927, 0.475626677274704, 0.477707922458649, 0.491591513156891, 0.464893847703934, 30.15604743957518, 7.490942573547353, 0, 0, 0, 9, 0, 62.203293085098274, 27.47911532719931, 103.7247233279049, 99874.13818359376, 8239.310760498047, 11.7595829963684, nan, 41.15745989481607, 100.0, 0.0, 69.6518103281657, 100.069839477539, 30.2870750427246, 0.3410833179950712, 0.426321983337402, 0.245902508497238, 0.3151965041955311, 0.350474715232849, 0.27478438615799, 0.2547422846158341, 0.256511151790619, 0.253314316272736, 15.1148009300232, 21.2970390319824, 8.01978874206543, 13.823688983917252, 15.8364105224609, 11.9704818725586, 10.86462370554606, 11.7002182006836, 9.70915985107422, 15.332204341888396, 23.8237190246582, 5.50377750396729, 15.216102917989083, 18.002542972564715, 8.967082420984918, 20.7556762695312, 0.54073965549469, 12.0372828483581]], 'agg_method': 'mean_abs'}}}\n",
      "INFO:sagemaker:Creating processing-job with name gda-yield-clarify-2022-11-25-00-30-53-769\n"
     ]
    },
    {
     "name": "stdout",
     "output_type": "stream",
     "text": [
      "\n",
      "Job Name:  gda-yield-clarify-2022-11-25-00-30-53-769\n",
      "Inputs:  [{'InputName': 'dataset', 'AppManaged': False, 'S3Input': {'S3Uri': 's3://sagemaker-eu-central-1-226275233641/cad-alok-singh/us_in_season_corn_yield/8_stages/V0/train_test_2020/model/Train/clarify_test.csv', 'LocalPath': '/opt/ml/processing/input/data', 'S3DataType': 'S3Prefix', 'S3InputMode': 'File', 'S3DataDistributionType': 'FullyReplicated', 'S3CompressionType': 'None'}}, {'InputName': 'analysis_config', 'AppManaged': False, 'S3Input': {'S3Uri': 's3://sagemaker-eu-central-1-226275233641/cad-alok-singh/us_in_season_corn_yield/8_stages/V0/train_test_2020/model/Train/analysis_config.json', 'LocalPath': '/opt/ml/processing/input/config', 'S3DataType': 'S3Prefix', 'S3InputMode': 'File', 'S3DataDistributionType': 'FullyReplicated', 'S3CompressionType': 'None'}}]\n",
      "Outputs:  [{'OutputName': 'analysis_result', 'AppManaged': False, 'S3Output': {'S3Uri': 's3://sagemaker-eu-central-1-226275233641/cad-alok-singh/us_in_season_corn_yield/8_stages/V0/train_test_2020/model/Train', 'LocalPath': '/opt/ml/processing/output', 'S3UploadMode': 'EndOfJob'}}]\n",
      "......................................\u001b[34m2022-11-25 00:37:15,993 logging.conf not found when configuring logging, using default logging configuration.\u001b[0m\n",
      "\u001b[34m2022-11-25 00:37:15,993 Starting SageMaker Clarify Processing job\u001b[0m\n",
      "\u001b[34m2022-11-25 00:37:15,994 Analysis config path: /opt/ml/processing/input/config/analysis_config.json\u001b[0m\n",
      "\u001b[34m2022-11-25 00:37:15,994 Analysis result path: /opt/ml/processing/output\u001b[0m\n",
      "\u001b[34m2022-11-25 00:37:15,995 This host is algo-1.\u001b[0m\n",
      "\u001b[34m2022-11-25 00:37:15,995 This host is the leader.\u001b[0m\n",
      "\u001b[34m2022-11-25 00:37:15,995 Number of hosts in the cluster is 1.\u001b[0m\n",
      "\u001b[34m2022-11-25 00:37:16,353 Running Python / Pandas based analyzer.\u001b[0m\n",
      "\u001b[34m2022-11-25 00:37:16,353 Dataset type: text/csv uri: /opt/ml/processing/input/data\u001b[0m\n",
      "\u001b[34m2022-11-25 00:37:16,365 Loading dataset...\u001b[0m\n",
      "\u001b[34m/usr/local/lib/python3.9/site-packages/analyzer/data_loading/csv_data_loader.py:315: FutureWarning: The frame.append method is deprecated and will be removed from pandas in a future version. Use pandas.concat instead.\n",
      "  df = df.append(df_tmp, ignore_index=True)\u001b[0m\n",
      "\u001b[34m2022-11-25 00:37:16,380 Loaded dataset. Dataset info:\u001b[0m\n",
      "\u001b[34m<class 'pandas.core.frame.DataFrame'>\u001b[0m\n",
      "\u001b[34mRangeIndex: 10 entries, 0 to 9\u001b[0m\n",
      "\u001b[34mColumns: 101 entries, year to V0_gdd\u001b[0m\n",
      "\u001b[34mdtypes: float64(91), int64(6), object(4)\u001b[0m\n",
      "\u001b[34mmemory usage: 8.0+ KB\u001b[0m\n",
      "\u001b[34m2022-11-25 00:37:16,440 Spinning up shadow endpoint\u001b[0m\n",
      "\u001b[34m2022-11-25 00:37:16,441 Creating endpoint-config with name sm-clarify-config-1669336636-ff94\u001b[0m\n",
      "\u001b[34m2022-11-25 00:37:16,493 exit_message: Customer Error: An error occurred (AccessDeniedException) when calling the CreateEndpointConfig operation: User: arn:aws:sts::226275233641:assumed-role/globaldataanalyticsDataScientistRole/SageMaker is not authorized to perform: sagemaker:CreateEndpointConfig on resource: arn:aws:sagemaker:eu-central-1:226275233641:endpoint-config/sm-clarify-config-1669336636-ff94 because no identity-based policy allows the sagemaker:CreateEndpointConfig action\u001b[0m\n",
      "\u001b[34m2022-11-25 00:37:16,576 Errors occurred when analyzing your data. Please check CloudWatch logs for more details.\u001b[0m\n",
      "\u001b[34mTraceback (most recent call last):\n",
      "  File \"/usr/local/lib/python3.9/site-packages/analyzer/analysis_driver.py\", line 705, in main\n",
      "    violations = run_analysis(configs)\n",
      "  File \"/usr/local/lib/python3.9/site-packages/analyzer/analysis_driver.py\", line 648, in run_analysis\n",
      "    metrics_results: MetricResults = run_pandas_analysis(configs)  # type: ignore\n",
      "  File \"/usr/local/lib/python3.9/site-packages/analyzer/analysis_driver.py\", line 344, in run_pandas_analysis\n",
      "    predictor = create_tabular_predictor_factory(analysis_config, data_loader)()\n",
      "  File \"/usr/local/lib/python3.9/site-packages/analyzer/predictor_factory.py\", line 32, in <lambda>\n",
      "    return lambda: _create_predictor(\n",
      "  File \"/usr/local/lib/python3.9/site-packages/analyzer/predictor_factory.py\", line 25, in _create_predictor\n",
      "    return Predictor(content_type, accept_type, **predictor_config_)\n",
      "  File \"/usr/local/lib/python3.9/site-packages/analyzer/predictor.py\", line 516, in __init__\n",
      "    self.managed_endpoint = ManagedEndpoint(\n",
      "  File \"/usr/local/lib/python3.9/site-packages/analyzer/predictor.py\", line 164, in __init__\n",
      "    self.__sagemaker_session.create_endpoint_config(\n",
      "  File \"/usr/local/lib/python3.9/site-packages/sagemaker/session.py\", line 3058, in create_endpoint_config\n",
      "    self.sagemaker_client.create_endpoint_config(**request)\n",
      "  File \"/usr/local/lib/python3.9/site-packages/botocore/client.py\", line 395, in _api_call\n",
      "    return self._make_api_call(operation_name, kwargs)\n",
      "  File \"/usr/local/lib/python3.9/site-packages/botocore/client.py\", line 725, in _make_api_call\n",
      "    raise error_class(parsed_response, operation_name)\u001b[0m\n",
      "\u001b[34mbotocore.exceptions.ClientError: An error occurred (AccessDeniedException) when calling the CreateEndpointConfig operation: User: arn:aws:sts::226275233641:assumed-role/globaldataanalyticsDataScientistRole/SageMaker is not authorized to perform: sagemaker:CreateEndpointConfig on resource: arn:aws:sagemaker:eu-central-1:226275233641:endpoint-config/sm-clarify-config-1669336636-ff94 because no identity-based policy allows the sagemaker:CreateEndpointConfig action\u001b[0m\n",
      "\u001b[34mException ignored in: <function Predictor.__del__ at 0x7f829ce3fca0>\u001b[0m\n",
      "\u001b[34mTraceback (most recent call last):\n",
      "  File \"/usr/local/lib/python3.9/site-packages/analyzer/predictor.py\", line 737, in __del__\n",
      "    self.cleanup()\n",
      "  File \"/usr/local/lib/python3.9/site-packages/analyzer/predictor.py\", line 730, in cleanup\n",
      "    if self.managed_endpoint:\u001b[0m\n",
      "\u001b[34mAttributeError: 'Predictor' object has no attribute 'managed_endpoint'\u001b[0m\n",
      "\u001b[34m2022-11-25 00:37:16,577 Model endpoint delivered 0.00000 requests per second and a total of 0 requests over 0 seconds\u001b[0m\n",
      "\n"
     ]
    },
    {
     "ename": "UnexpectedStatusException",
     "evalue": "Error for Processing job gda-yield-clarify-2022-11-25-00-30-53-769: Failed. Reason: ClientError: An error occurred (AccessDeniedException) when calling the CreateEndpointConfig operation: User: arn:aws:sts::226275233641:assumed-role/globaldataanalyticsDataScientistRole/SageMaker is not authorized to perform: sagemaker:CreateEndpointConfig on resource: arn:aws:sagemaker:eu-central-1:226275233641:endpoint-config/sm-clarify-config-1669336636-ff94 because no identity-based policy allows the sagemaker:CreateEndpointConfig action",
     "output_type": "error",
     "traceback": [
      "\u001b[0;31m---------------------------------------------------------------------------\u001b[0m",
      "\u001b[0;31mUnexpectedStatusException\u001b[0m                 Traceback (most recent call last)",
      "Cell \u001b[0;32mIn [64], line 1\u001b[0m\n\u001b[0;32m----> 1\u001b[0m \u001b[43mclarify_processor\u001b[49m\u001b[38;5;241;43m.\u001b[39;49m\u001b[43mrun_explainability\u001b[49m\u001b[43m(\u001b[49m\n\u001b[1;32m      2\u001b[0m \u001b[43m    \u001b[49m\u001b[43mdata_config\u001b[49m\u001b[38;5;241;43m=\u001b[39;49m\u001b[43mexplainability_data_config\u001b[49m\u001b[43m,\u001b[49m\n\u001b[1;32m      3\u001b[0m \u001b[43m    \u001b[49m\u001b[43mmodel_config\u001b[49m\u001b[38;5;241;43m=\u001b[39;49m\u001b[43mmodel_config\u001b[49m\u001b[43m,\u001b[49m\n\u001b[1;32m      4\u001b[0m \u001b[43m    \u001b[49m\u001b[43mexplainability_config\u001b[49m\u001b[38;5;241;43m=\u001b[39;49m\u001b[43mshap_config\u001b[49m\u001b[43m,\u001b[49m\n\u001b[1;32m      5\u001b[0m \u001b[43m)\u001b[49m\n",
      "File \u001b[0;32m~/opt/anaconda3/envs/sagemaker-poc/lib/python3.9/site-packages/sagemaker/clarify.py:1683\u001b[0m, in \u001b[0;36mSageMakerClarifyProcessor.run_explainability\u001b[0;34m(self, data_config, model_config, explainability_config, model_scores, wait, logs, job_name, kms_key, experiment_config)\u001b[0m\n\u001b[1;32m   1679\u001b[0m \u001b[38;5;66;03m# when name is either not provided (is None) or an empty string (\"\")\u001b[39;00m\n\u001b[1;32m   1680\u001b[0m job_name \u001b[38;5;241m=\u001b[39m job_name \u001b[38;5;129;01mor\u001b[39;00m utils\u001b[38;5;241m.\u001b[39mname_from_base(\n\u001b[1;32m   1681\u001b[0m     \u001b[38;5;28mself\u001b[39m\u001b[38;5;241m.\u001b[39mjob_name_prefix \u001b[38;5;129;01mor\u001b[39;00m \u001b[38;5;124m\"\u001b[39m\u001b[38;5;124mClarify-Explainability\u001b[39m\u001b[38;5;124m\"\u001b[39m\n\u001b[1;32m   1682\u001b[0m )\n\u001b[0;32m-> 1683\u001b[0m \u001b[38;5;28;01mreturn\u001b[39;00m \u001b[38;5;28;43mself\u001b[39;49m\u001b[38;5;241;43m.\u001b[39;49m\u001b[43m_run\u001b[49m\u001b[43m(\u001b[49m\n\u001b[1;32m   1684\u001b[0m \u001b[43m    \u001b[49m\u001b[43mdata_config\u001b[49m\u001b[43m,\u001b[49m\n\u001b[1;32m   1685\u001b[0m \u001b[43m    \u001b[49m\u001b[43manalysis_config\u001b[49m\u001b[43m,\u001b[49m\n\u001b[1;32m   1686\u001b[0m \u001b[43m    \u001b[49m\u001b[43mwait\u001b[49m\u001b[43m,\u001b[49m\n\u001b[1;32m   1687\u001b[0m \u001b[43m    \u001b[49m\u001b[43mlogs\u001b[49m\u001b[43m,\u001b[49m\n\u001b[1;32m   1688\u001b[0m \u001b[43m    \u001b[49m\u001b[43mjob_name\u001b[49m\u001b[43m,\u001b[49m\n\u001b[1;32m   1689\u001b[0m \u001b[43m    \u001b[49m\u001b[43mkms_key\u001b[49m\u001b[43m,\u001b[49m\n\u001b[1;32m   1690\u001b[0m \u001b[43m    \u001b[49m\u001b[43mexperiment_config\u001b[49m\u001b[43m,\u001b[49m\n\u001b[1;32m   1691\u001b[0m \u001b[43m\u001b[49m\u001b[43m)\u001b[49m\n",
      "File \u001b[0;32m~/opt/anaconda3/envs/sagemaker-poc/lib/python3.9/site-packages/sagemaker/clarify.py:1344\u001b[0m, in \u001b[0;36mSageMakerClarifyProcessor._run\u001b[0;34m(self, data_config, analysis_config, wait, logs, job_name, kms_key, experiment_config)\u001b[0m\n\u001b[1;32m   1328\u001b[0m data_input \u001b[38;5;241m=\u001b[39m ProcessingInput(\n\u001b[1;32m   1329\u001b[0m     input_name\u001b[38;5;241m=\u001b[39m\u001b[38;5;124m\"\u001b[39m\u001b[38;5;124mdataset\u001b[39m\u001b[38;5;124m\"\u001b[39m,\n\u001b[1;32m   1330\u001b[0m     source\u001b[38;5;241m=\u001b[39mdata_config\u001b[38;5;241m.\u001b[39ms3_data_input_path,\n\u001b[0;32m   (...)\u001b[0m\n\u001b[1;32m   1335\u001b[0m     s3_compression_type\u001b[38;5;241m=\u001b[39mdata_config\u001b[38;5;241m.\u001b[39ms3_compression_type,\n\u001b[1;32m   1336\u001b[0m )\n\u001b[1;32m   1337\u001b[0m result_output \u001b[38;5;241m=\u001b[39m ProcessingOutput(\n\u001b[1;32m   1338\u001b[0m     source\u001b[38;5;241m=\u001b[39m\u001b[38;5;28mself\u001b[39m\u001b[38;5;241m.\u001b[39m_CLARIFY_OUTPUT,\n\u001b[1;32m   1339\u001b[0m     destination\u001b[38;5;241m=\u001b[39mdata_config\u001b[38;5;241m.\u001b[39ms3_output_path,\n\u001b[1;32m   1340\u001b[0m     output_name\u001b[38;5;241m=\u001b[39m\u001b[38;5;124m\"\u001b[39m\u001b[38;5;124manalysis_result\u001b[39m\u001b[38;5;124m\"\u001b[39m,\n\u001b[1;32m   1341\u001b[0m     s3_upload_mode\u001b[38;5;241m=\u001b[39m\u001b[38;5;124m\"\u001b[39m\u001b[38;5;124mEndOfJob\u001b[39m\u001b[38;5;124m\"\u001b[39m,\n\u001b[1;32m   1342\u001b[0m )\n\u001b[0;32m-> 1344\u001b[0m \u001b[38;5;28;01mreturn\u001b[39;00m \u001b[38;5;28;43msuper\u001b[39;49m\u001b[43m(\u001b[49m\u001b[43m)\u001b[49m\u001b[38;5;241;43m.\u001b[39;49m\u001b[43mrun\u001b[49m\u001b[43m(\u001b[49m\n\u001b[1;32m   1345\u001b[0m \u001b[43m    \u001b[49m\u001b[43minputs\u001b[49m\u001b[38;5;241;43m=\u001b[39;49m\u001b[43m[\u001b[49m\u001b[43mdata_input\u001b[49m\u001b[43m,\u001b[49m\u001b[43m \u001b[49m\u001b[43mconfig_input\u001b[49m\u001b[43m]\u001b[49m\u001b[43m,\u001b[49m\n\u001b[1;32m   1346\u001b[0m \u001b[43m    \u001b[49m\u001b[43moutputs\u001b[49m\u001b[38;5;241;43m=\u001b[39;49m\u001b[43m[\u001b[49m\u001b[43mresult_output\u001b[49m\u001b[43m]\u001b[49m\u001b[43m,\u001b[49m\n\u001b[1;32m   1347\u001b[0m \u001b[43m    \u001b[49m\u001b[43mwait\u001b[49m\u001b[38;5;241;43m=\u001b[39;49m\u001b[43mwait\u001b[49m\u001b[43m,\u001b[49m\n\u001b[1;32m   1348\u001b[0m \u001b[43m    \u001b[49m\u001b[43mlogs\u001b[49m\u001b[38;5;241;43m=\u001b[39;49m\u001b[43mlogs\u001b[49m\u001b[43m,\u001b[49m\n\u001b[1;32m   1349\u001b[0m \u001b[43m    \u001b[49m\u001b[43mjob_name\u001b[49m\u001b[38;5;241;43m=\u001b[39;49m\u001b[43mjob_name\u001b[49m\u001b[43m,\u001b[49m\n\u001b[1;32m   1350\u001b[0m \u001b[43m    \u001b[49m\u001b[43mkms_key\u001b[49m\u001b[38;5;241;43m=\u001b[39;49m\u001b[43mkms_key\u001b[49m\u001b[43m,\u001b[49m\n\u001b[1;32m   1351\u001b[0m \u001b[43m    \u001b[49m\u001b[43mexperiment_config\u001b[49m\u001b[38;5;241;43m=\u001b[39;49m\u001b[43mexperiment_config\u001b[49m\u001b[43m,\u001b[49m\n\u001b[1;32m   1352\u001b[0m \u001b[43m\u001b[49m\u001b[43m)\u001b[49m\n",
      "File \u001b[0;32m~/opt/anaconda3/envs/sagemaker-poc/lib/python3.9/site-packages/sagemaker/workflow/pipeline_context.py:272\u001b[0m, in \u001b[0;36mrunnable_by_pipeline.<locals>.wrapper\u001b[0;34m(*args, **kwargs)\u001b[0m\n\u001b[1;32m    268\u001b[0m         \u001b[38;5;28;01mreturn\u001b[39;00m context\n\u001b[1;32m    270\u001b[0m     \u001b[38;5;28;01mreturn\u001b[39;00m _StepArguments(retrieve_caller_name(self_instance), run_func, \u001b[38;5;241m*\u001b[39margs, \u001b[38;5;241m*\u001b[39m\u001b[38;5;241m*\u001b[39mkwargs)\n\u001b[0;32m--> 272\u001b[0m \u001b[38;5;28;01mreturn\u001b[39;00m \u001b[43mrun_func\u001b[49m\u001b[43m(\u001b[49m\u001b[38;5;241;43m*\u001b[39;49m\u001b[43margs\u001b[49m\u001b[43m,\u001b[49m\u001b[43m \u001b[49m\u001b[38;5;241;43m*\u001b[39;49m\u001b[38;5;241;43m*\u001b[39;49m\u001b[43mkwargs\u001b[49m\u001b[43m)\u001b[49m\n",
      "File \u001b[0;32m~/opt/anaconda3/envs/sagemaker-poc/lib/python3.9/site-packages/sagemaker/processing.py:213\u001b[0m, in \u001b[0;36mProcessor.run\u001b[0;34m(self, inputs, outputs, arguments, wait, logs, job_name, experiment_config, kms_key)\u001b[0m\n\u001b[1;32m    211\u001b[0m \u001b[38;5;28mself\u001b[39m\u001b[38;5;241m.\u001b[39mjobs\u001b[38;5;241m.\u001b[39mappend(\u001b[38;5;28mself\u001b[39m\u001b[38;5;241m.\u001b[39mlatest_job)\n\u001b[1;32m    212\u001b[0m \u001b[38;5;28;01mif\u001b[39;00m wait:\n\u001b[0;32m--> 213\u001b[0m     \u001b[38;5;28;43mself\u001b[39;49m\u001b[38;5;241;43m.\u001b[39;49m\u001b[43mlatest_job\u001b[49m\u001b[38;5;241;43m.\u001b[39;49m\u001b[43mwait\u001b[49m\u001b[43m(\u001b[49m\u001b[43mlogs\u001b[49m\u001b[38;5;241;43m=\u001b[39;49m\u001b[43mlogs\u001b[49m\u001b[43m)\u001b[49m\n",
      "File \u001b[0;32m~/opt/anaconda3/envs/sagemaker-poc/lib/python3.9/site-packages/sagemaker/processing.py:1035\u001b[0m, in \u001b[0;36mProcessingJob.wait\u001b[0;34m(self, logs)\u001b[0m\n\u001b[1;32m   1028\u001b[0m \u001b[38;5;124;03m\"\"\"Waits for the processing job to complete.\u001b[39;00m\n\u001b[1;32m   1029\u001b[0m \n\u001b[1;32m   1030\u001b[0m \u001b[38;5;124;03mArgs:\u001b[39;00m\n\u001b[1;32m   1031\u001b[0m \u001b[38;5;124;03m    logs (bool): Whether to show the logs produced by the job (default: True).\u001b[39;00m\n\u001b[1;32m   1032\u001b[0m \n\u001b[1;32m   1033\u001b[0m \u001b[38;5;124;03m\"\"\"\u001b[39;00m\n\u001b[1;32m   1034\u001b[0m \u001b[38;5;28;01mif\u001b[39;00m logs:\n\u001b[0;32m-> 1035\u001b[0m     \u001b[38;5;28;43mself\u001b[39;49m\u001b[38;5;241;43m.\u001b[39;49m\u001b[43msagemaker_session\u001b[49m\u001b[38;5;241;43m.\u001b[39;49m\u001b[43mlogs_for_processing_job\u001b[49m\u001b[43m(\u001b[49m\u001b[38;5;28;43mself\u001b[39;49m\u001b[38;5;241;43m.\u001b[39;49m\u001b[43mjob_name\u001b[49m\u001b[43m,\u001b[49m\u001b[43m \u001b[49m\u001b[43mwait\u001b[49m\u001b[38;5;241;43m=\u001b[39;49m\u001b[38;5;28;43;01mTrue\u001b[39;49;00m\u001b[43m)\u001b[49m\n\u001b[1;32m   1036\u001b[0m \u001b[38;5;28;01melse\u001b[39;00m:\n\u001b[1;32m   1037\u001b[0m     \u001b[38;5;28mself\u001b[39m\u001b[38;5;241m.\u001b[39msagemaker_session\u001b[38;5;241m.\u001b[39mwait_for_processing_job(\u001b[38;5;28mself\u001b[39m\u001b[38;5;241m.\u001b[39mjob_name)\n",
      "File \u001b[0;32m~/opt/anaconda3/envs/sagemaker-poc/lib/python3.9/site-packages/sagemaker/session.py:3982\u001b[0m, in \u001b[0;36mSession.logs_for_processing_job\u001b[0;34m(self, job_name, wait, poll)\u001b[0m\n\u001b[1;32m   3979\u001b[0m             state \u001b[38;5;241m=\u001b[39m LogState\u001b[38;5;241m.\u001b[39mJOB_COMPLETE\n\u001b[1;32m   3981\u001b[0m \u001b[38;5;28;01mif\u001b[39;00m wait:\n\u001b[0;32m-> 3982\u001b[0m     \u001b[38;5;28;43mself\u001b[39;49m\u001b[38;5;241;43m.\u001b[39;49m\u001b[43m_check_job_status\u001b[49m\u001b[43m(\u001b[49m\u001b[43mjob_name\u001b[49m\u001b[43m,\u001b[49m\u001b[43m \u001b[49m\u001b[43mdescription\u001b[49m\u001b[43m,\u001b[49m\u001b[43m \u001b[49m\u001b[38;5;124;43m\"\u001b[39;49m\u001b[38;5;124;43mProcessingJobStatus\u001b[39;49m\u001b[38;5;124;43m\"\u001b[39;49m\u001b[43m)\u001b[49m\n\u001b[1;32m   3983\u001b[0m     \u001b[38;5;28;01mif\u001b[39;00m dot:\n\u001b[1;32m   3984\u001b[0m         \u001b[38;5;28mprint\u001b[39m()\n",
      "File \u001b[0;32m~/opt/anaconda3/envs/sagemaker-poc/lib/python3.9/site-packages/sagemaker/session.py:3431\u001b[0m, in \u001b[0;36mSession._check_job_status\u001b[0;34m(self, job, desc, status_key_name)\u001b[0m\n\u001b[1;32m   3425\u001b[0m \u001b[38;5;28;01mif\u001b[39;00m \u001b[38;5;124m\"\u001b[39m\u001b[38;5;124mCapacityError\u001b[39m\u001b[38;5;124m\"\u001b[39m \u001b[38;5;129;01min\u001b[39;00m \u001b[38;5;28mstr\u001b[39m(reason):\n\u001b[1;32m   3426\u001b[0m     \u001b[38;5;28;01mraise\u001b[39;00m exceptions\u001b[38;5;241m.\u001b[39mCapacityError(\n\u001b[1;32m   3427\u001b[0m         message\u001b[38;5;241m=\u001b[39mmessage,\n\u001b[1;32m   3428\u001b[0m         allowed_statuses\u001b[38;5;241m=\u001b[39m[\u001b[38;5;124m\"\u001b[39m\u001b[38;5;124mCompleted\u001b[39m\u001b[38;5;124m\"\u001b[39m, \u001b[38;5;124m\"\u001b[39m\u001b[38;5;124mStopped\u001b[39m\u001b[38;5;124m\"\u001b[39m],\n\u001b[1;32m   3429\u001b[0m         actual_status\u001b[38;5;241m=\u001b[39mstatus,\n\u001b[1;32m   3430\u001b[0m     )\n\u001b[0;32m-> 3431\u001b[0m \u001b[38;5;28;01mraise\u001b[39;00m exceptions\u001b[38;5;241m.\u001b[39mUnexpectedStatusException(\n\u001b[1;32m   3432\u001b[0m     message\u001b[38;5;241m=\u001b[39mmessage,\n\u001b[1;32m   3433\u001b[0m     allowed_statuses\u001b[38;5;241m=\u001b[39m[\u001b[38;5;124m\"\u001b[39m\u001b[38;5;124mCompleted\u001b[39m\u001b[38;5;124m\"\u001b[39m, \u001b[38;5;124m\"\u001b[39m\u001b[38;5;124mStopped\u001b[39m\u001b[38;5;124m\"\u001b[39m],\n\u001b[1;32m   3434\u001b[0m     actual_status\u001b[38;5;241m=\u001b[39mstatus,\n\u001b[1;32m   3435\u001b[0m )\n",
      "\u001b[0;31mUnexpectedStatusException\u001b[0m: Error for Processing job gda-yield-clarify-2022-11-25-00-30-53-769: Failed. Reason: ClientError: An error occurred (AccessDeniedException) when calling the CreateEndpointConfig operation: User: arn:aws:sts::226275233641:assumed-role/globaldataanalyticsDataScientistRole/SageMaker is not authorized to perform: sagemaker:CreateEndpointConfig on resource: arn:aws:sagemaker:eu-central-1:226275233641:endpoint-config/sm-clarify-config-1669336636-ff94 because no identity-based policy allows the sagemaker:CreateEndpointConfig action"
     ]
    }
   ],
   "source": [
    "clarify_processor.run_explainability(\n",
    "    data_config=explainability_data_config,\n",
    "    model_config=model_config,\n",
    "    explainability_config=shap_config,\n",
    ")"
   ]
  },
  {
   "cell_type": "code",
   "execution_count": 65,
   "metadata": {},
   "outputs": [
    {
     "name": "stderr",
     "output_type": "stream",
     "text": [
      "INFO:sagemaker:Deleting model with name: gda-yeild-infrence-provisioned\n",
      "INFO:sagemaker:Deleting endpoint configuration with name: gda-yeild-infrence-provisioned\n",
      "INFO:sagemaker:Deleting endpoint with name: gda-yeild-infrence-provisioned\n"
     ]
    }
   ],
   "source": [
    "predictor.delete_model()\n",
    "predictor.delete_endpoint()"
   ]
  },
  {
   "cell_type": "code",
   "execution_count": null,
   "metadata": {},
   "outputs": [],
   "source": [
    "clarify_processor."
   ]
  }
 ],
 "metadata": {
  "instance_type": "ml.t3.medium",
  "kernelspec": {
   "display_name": "Python 3 (ipykernel)",
   "language": "python",
   "name": "python3"
  },
  "language_info": {
   "codemirror_mode": {
    "name": "ipython",
    "version": 3
   },
   "file_extension": ".py",
   "mimetype": "text/x-python",
   "name": "python",
   "nbconvert_exporter": "python",
   "pygments_lexer": "ipython3",
   "version": "3.10.6"
  }
 },
 "nbformat": 4,
 "nbformat_minor": 4
}
