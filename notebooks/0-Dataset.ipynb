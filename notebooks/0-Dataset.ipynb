{
 "cells": [
  {
   "cell_type": "code",
   "execution_count": null,
   "id": "71009780-e1fd-4179-b8bf-9a1b4bbc92cf",
   "metadata": {},
   "outputs": [],
   "source": [
    "import pandas as pd\n",
    "import numpy as np\n",
    "from pandas_profiling import ProfileReport"
   ]
  },
  {
   "cell_type": "code",
   "execution_count": null,
   "id": "d6bb7a5c-0a0e-4503-843d-52699b675038",
   "metadata": {},
   "outputs": [],
   "source": [
    "columns = ['global_trend', 'V0_temperature_c_surface_avg', 'V0_temperature_c_surface_max', 'V0_temperature_c_surface_min', \n",
    "           'V0_mean_cvi', 'V0_std_cvi', 'V0_median_cvi', 'V0_q10_cvi', 'V0_q25_cvi', 'V0_q75_cvi', 'V0_q90_cvi',\n",
    "           'V0_mean_cab', 'V0_std_cab', 'V0_median_cab', 'V0_q10_cab', 'V0_q25_cab', 'V0_q75_cab', 'V0_q90_cab',\n",
    "           'V0_mean_ecnorm', 'V0_std_ecnorm', 'V0_median_ecnorm', 'V0_q10_ecnorm', 'V0_q25_ecnorm', 'V0_q75_ecnorm', 'V0_q90_ecnorm',\n",
    "           'V0_mean_evi2', 'V0_std_evi2', 'V0_median_evi2', 'V0_q10_evi2', 'V0_q25_evi2', 'V0_q75_evi2', 'V0_q90_evi2',\n",
    "           'V0_mean_gndvi', 'V0_std_gndvi', 'V0_median_gndvi', 'V0_q10_gndvi', 'V0_q25_gndvi', 'V0_q75_gndvi', 'V0_q90_gndvi',\n",
    "           'V0_mean_gvmi', 'V0_std_gvmi', 'V0_median_gvmi', 'V0_q10_gvmi', 'V0_q25_gvmi', 'V0_q75_gvmi', 'V0_q90_gvmi',\n",
    "           'V0_mean_lai', 'V0_std_lai', 'V0_median_lai', 'V0_q10_lai', 'V0_q25_lai', 'V0_q75_lai', 'V0_q90_lai',\n",
    "           'V0_mean_mcari', 'V0_std_mcari', 'V0_median_mcari', 'V0_q10_mcari', 'V0_q25_mcari', 'V0_q75_mcari', 'V0_q90_mcari',\n",
    "           'V0_mean_msavi', 'V0_std_msavi', 'V0_median_msavi', 'V0_q10_msavi', 'V0_q25_msavi', 'V0_q75_msavi', 'V0_q90_msavi',\n",
    "           'V0_mean_nddi', 'V0_std_nddi', 'V0_median_nddi', 'V0_q10_nddi', 'V0_q25_nddi', 'V0_q75_nddi', 'V0_q90_nddi',\n",
    "           'V0_mean_ndvi', 'V0_std_ndvi', 'V0_median_ndvi', 'V0_q10_ndvi', 'V0_q25_ndvi', 'V0_q75_ndvi', 'V0_q90_ndvi',\n",
    "           'V0_mean_ndwi', 'V0_std_ndwi', 'V0_median_ndwi', 'V0_q10_ndwi', 'V0_q25_ndwi', 'V0_q75_ndwi', 'V0_q90_ndwi',\n",
    "           'V0_mean_pvi', 'V0_std_pvi', 'V0_median_pvi', 'V0_q10_pvi', 'V0_q25_pvi', 'V0_q75_pvi', 'V0_q90_pvi',\n",
    "           'V0_mean_slavi', 'V0_std_slavi', 'V0_median_slavi', 'V0_q10_slavi', 'V0_q25_slavi', 'V0_q75_slavi', 'V0_q90_slavi',\n",
    "           'V0_mean_vsdi', 'V0_std_vsdi', 'V0_median_vsdi', 'V0_q10_vsdi', 'V0_q25_vsdi', 'V0_q75_vsdi', 'V0_q90_vsdi',\n",
    "           'V0_mean_wet', 'V0_std_wet', 'V0_median_wet', 'V0_q10_wet', 'V0_q25_wet', 'V0_q75_wet', 'V0_q90_wet',\n",
    "           'V0_mean_fapar', 'V0_std_fapar', 'V0_median_fapar', 'V0_q10_fapar', 'V0_q25_fapar', 'V0_q75_fapar', 'V0_q90_fapar'\n",
    "          ]"
   ]
  },
  {
   "cell_type": "code",
   "execution_count": null,
   "id": "275442c6-36e1-4f26-b459-be5217bf0c96",
   "metadata": {},
   "outputs": [],
   "source": [
    "df = pd.read_csv(\"../data/train/train.csv\")\n",
    "df = df.drop(columns, axis=1)"
   ]
  },
  {
   "cell_type": "code",
   "execution_count": null,
   "id": "b91236e7-90ab-487a-9c64-bd7960ad624e",
   "metadata": {},
   "outputs": [],
   "source": [
    "df.head()"
   ]
  },
  {
   "cell_type": "code",
   "execution_count": null,
   "id": "a5a582c3-a0eb-47c2-8664-3524c53b475a",
   "metadata": {},
   "outputs": [],
   "source": [
    "df.describe(include='all')"
   ]
  },
  {
   "cell_type": "code",
   "execution_count": null,
   "id": "05649c18-bfb2-4782-8c56-d10fcad382b6",
   "metadata": {},
   "outputs": [],
   "source": [
    "df.dtypes.values"
   ]
  },
  {
   "cell_type": "code",
   "execution_count": null,
   "id": "7290da8a-a166-470c-8e68-d922a0db6698",
   "metadata": {},
   "outputs": [],
   "source": [
    "categorical_features_indices = np.where((df.dtypes != float) & (df.dtypes != int))[0]\n",
    "df.iloc[:, categorical_features_indices]"
   ]
  },
  {
   "cell_type": "code",
   "execution_count": null,
   "id": "570e7165-a762-490d-8409-627f74b2ab79",
   "metadata": {},
   "outputs": [],
   "source": [
    "profile = ProfileReport(\n",
    "    df, \n",
    "    title=\"Syngenta\",\n",
    "    interactions=None\n",
    ")\n",
    "profile.to_file(\"report/pandas_profile.html\")"
   ]
  },
  {
   "cell_type": "code",
   "execution_count": null,
   "id": "64bc9a60-bee4-4b61-b1ae-df1621b73dfd",
   "metadata": {},
   "outputs": [],
   "source": []
  }
 ],
 "metadata": {
  "kernelspec": {
   "display_name": "Python 3 (ipykernel)",
   "language": "python",
   "name": "python3"
  },
  "language_info": {
   "codemirror_mode": {
    "name": "ipython",
    "version": 3
   },
   "file_extension": ".py",
   "mimetype": "text/x-python",
   "name": "python",
   "nbconvert_exporter": "python",
   "pygments_lexer": "ipython3",
   "version": "3.10.6"
  }
 },
 "nbformat": 4,
 "nbformat_minor": 5
}
